{
 "cells": [
  {
   "cell_type": "markdown",
   "metadata": {
    "colab_type": "text",
    "id": "WG2r4_5v-UPF"
   },
   "source": [
    "# MULTICLASS - CLASSIFICATION NEURAL NETWORK FROM SCRATCH\n",
    "\n",
    "### Dataset : FASHION - MNIST\n",
    "### Info : Fashion-MNIST is a dataset consisting of a training set of 60,000 examples and a test set of 10,000 examples. Each example is a 28x28 grayscale image, associated with a label from 10 classes. \n",
    "\n",
    "## Loading Dataset from Kaggle\n"
   ]
  },
  {
   "cell_type": "markdown",
   "metadata": {
    "colab_type": "text",
    "id": "aJzZAWqLKwPc"
   },
   "source": [
    "First let us download the dataset from Kaggle."
   ]
  },
  {
   "cell_type": "code",
   "execution_count": 6,
   "metadata": {
    "colab": {
     "base_uri": "https://localhost:8080/",
     "height": 34
    },
    "colab_type": "code",
    "id": "J_zTOXpeGyRj",
    "outputId": "2f710351-191e-4064-ca2d-0127348cbdf4"
   },
   "outputs": [
    {
     "name": "stdout",
     "output_type": "stream",
     "text": [
      "mkdir: cannot create directory ‘/root/.kaggle’: File exists\n"
     ]
    }
   ],
   "source": [
    "!mkdir ~/.kaggle\n",
    "!cp /content/kaggle.json ~/.kaggle/kaggle.json"
   ]
  },
  {
   "cell_type": "code",
   "execution_count": 0,
   "metadata": {
    "colab": {},
    "colab_type": "code",
    "id": "mQI-nvKsHXIi"
   },
   "outputs": [],
   "source": [
    "!chmod 600 /root/.kaggle/kaggle.json"
   ]
  },
  {
   "cell_type": "code",
   "execution_count": 8,
   "metadata": {
    "colab": {
     "base_uri": "https://localhost:8080/",
     "height": 69
    },
    "colab_type": "code",
    "id": "xJpHNHbHH0dy",
    "outputId": "4c866b09-0640-445c-d0be-caee96c6da30"
   },
   "outputs": [
    {
     "name": "stdout",
     "output_type": "stream",
     "text": [
      "Downloading fashionmnist.zip to /content\n",
      " 95% 65.0M/68.8M [00:00<00:00, 66.9MB/s]\n",
      "100% 68.8M/68.8M [00:00<00:00, 94.0MB/s]\n"
     ]
    }
   ],
   "source": [
    "!kaggle datasets download -d zalando-research/fashionmnist -p /content"
   ]
  },
  {
   "cell_type": "code",
   "execution_count": 9,
   "metadata": {
    "colab": {
     "base_uri": "https://localhost:8080/",
     "height": 139
    },
    "colab_type": "code",
    "id": "HyB_GedWIUTD",
    "outputId": "2f65019d-97b4-4cee-9519-8929b8230b28"
   },
   "outputs": [
    {
     "name": "stdout",
     "output_type": "stream",
     "text": [
      "Archive:  /content/fashionmnist.zip\n",
      "  inflating: t10k-images-idx3-ubyte  \n",
      "  inflating: fashion-mnist_test.csv  \n",
      "  inflating: train-labels-idx1-ubyte  \n",
      "  inflating: train-images-idx3-ubyte  \n",
      "  inflating: fashion-mnist_train.csv  \n",
      "  inflating: t10k-labels-idx1-ubyte  \n"
     ]
    }
   ],
   "source": [
    "!unzip /content/fashionmnist.zip"
   ]
  },
  {
   "cell_type": "markdown",
   "metadata": {
    "colab_type": "text",
    "id": "G6bf_Ve2LBnm"
   },
   "source": [
    "Great! Let's Begin."
   ]
  },
  {
   "cell_type": "markdown",
   "metadata": {
    "colab_type": "text",
    "id": "rLuWSum__oW8"
   },
   "source": [
    "## Dataset visualisation"
   ]
  },
  {
   "cell_type": "code",
   "execution_count": 0,
   "metadata": {
    "colab": {},
    "colab_type": "code",
    "id": "OXCFNU0TIeCz"
   },
   "outputs": [],
   "source": [
    "import numpy as np\n",
    "import matplotlib.pyplot as plt\n",
    "import pandas as pd\n",
    "from google.colab import files\n",
    "import os\n",
    "from zipfile import ZipFile"
   ]
  },
  {
   "cell_type": "code",
   "execution_count": 13,
   "metadata": {
    "colab": {
     "base_uri": "https://localhost:8080/",
     "height": 273
    },
    "colab_type": "code",
    "id": "74714xJHLOol",
    "outputId": "2b40b21f-07d4-4323-8188-6366a6c46116"
   },
   "outputs": [
    {
     "name": "stdout",
     "output_type": "stream",
     "text": [
      "(60000, 785)\n"
     ]
    },
    {
     "data": {
      "text/html": [
       "<div>\n",
       "<style scoped>\n",
       "    .dataframe tbody tr th:only-of-type {\n",
       "        vertical-align: middle;\n",
       "    }\n",
       "\n",
       "    .dataframe tbody tr th {\n",
       "        vertical-align: top;\n",
       "    }\n",
       "\n",
       "    .dataframe thead th {\n",
       "        text-align: right;\n",
       "    }\n",
       "</style>\n",
       "<table border=\"1\" class=\"dataframe\">\n",
       "  <thead>\n",
       "    <tr style=\"text-align: right;\">\n",
       "      <th></th>\n",
       "      <th>label</th>\n",
       "      <th>pixel1</th>\n",
       "      <th>pixel2</th>\n",
       "      <th>pixel3</th>\n",
       "      <th>pixel4</th>\n",
       "      <th>pixel5</th>\n",
       "      <th>pixel6</th>\n",
       "      <th>pixel7</th>\n",
       "      <th>pixel8</th>\n",
       "      <th>pixel9</th>\n",
       "      <th>...</th>\n",
       "      <th>pixel775</th>\n",
       "      <th>pixel776</th>\n",
       "      <th>pixel777</th>\n",
       "      <th>pixel778</th>\n",
       "      <th>pixel779</th>\n",
       "      <th>pixel780</th>\n",
       "      <th>pixel781</th>\n",
       "      <th>pixel782</th>\n",
       "      <th>pixel783</th>\n",
       "      <th>pixel784</th>\n",
       "    </tr>\n",
       "  </thead>\n",
       "  <tbody>\n",
       "    <tr>\n",
       "      <th>0</th>\n",
       "      <td>2</td>\n",
       "      <td>0</td>\n",
       "      <td>0</td>\n",
       "      <td>0</td>\n",
       "      <td>0</td>\n",
       "      <td>0</td>\n",
       "      <td>0</td>\n",
       "      <td>0</td>\n",
       "      <td>0</td>\n",
       "      <td>0</td>\n",
       "      <td>...</td>\n",
       "      <td>0</td>\n",
       "      <td>0</td>\n",
       "      <td>0</td>\n",
       "      <td>0</td>\n",
       "      <td>0</td>\n",
       "      <td>0</td>\n",
       "      <td>0</td>\n",
       "      <td>0</td>\n",
       "      <td>0</td>\n",
       "      <td>0</td>\n",
       "    </tr>\n",
       "    <tr>\n",
       "      <th>1</th>\n",
       "      <td>9</td>\n",
       "      <td>0</td>\n",
       "      <td>0</td>\n",
       "      <td>0</td>\n",
       "      <td>0</td>\n",
       "      <td>0</td>\n",
       "      <td>0</td>\n",
       "      <td>0</td>\n",
       "      <td>0</td>\n",
       "      <td>0</td>\n",
       "      <td>...</td>\n",
       "      <td>0</td>\n",
       "      <td>0</td>\n",
       "      <td>0</td>\n",
       "      <td>0</td>\n",
       "      <td>0</td>\n",
       "      <td>0</td>\n",
       "      <td>0</td>\n",
       "      <td>0</td>\n",
       "      <td>0</td>\n",
       "      <td>0</td>\n",
       "    </tr>\n",
       "    <tr>\n",
       "      <th>2</th>\n",
       "      <td>6</td>\n",
       "      <td>0</td>\n",
       "      <td>0</td>\n",
       "      <td>0</td>\n",
       "      <td>0</td>\n",
       "      <td>0</td>\n",
       "      <td>0</td>\n",
       "      <td>0</td>\n",
       "      <td>5</td>\n",
       "      <td>0</td>\n",
       "      <td>...</td>\n",
       "      <td>0</td>\n",
       "      <td>0</td>\n",
       "      <td>0</td>\n",
       "      <td>30</td>\n",
       "      <td>43</td>\n",
       "      <td>0</td>\n",
       "      <td>0</td>\n",
       "      <td>0</td>\n",
       "      <td>0</td>\n",
       "      <td>0</td>\n",
       "    </tr>\n",
       "    <tr>\n",
       "      <th>3</th>\n",
       "      <td>0</td>\n",
       "      <td>0</td>\n",
       "      <td>0</td>\n",
       "      <td>0</td>\n",
       "      <td>1</td>\n",
       "      <td>2</td>\n",
       "      <td>0</td>\n",
       "      <td>0</td>\n",
       "      <td>0</td>\n",
       "      <td>0</td>\n",
       "      <td>...</td>\n",
       "      <td>3</td>\n",
       "      <td>0</td>\n",
       "      <td>0</td>\n",
       "      <td>0</td>\n",
       "      <td>0</td>\n",
       "      <td>1</td>\n",
       "      <td>0</td>\n",
       "      <td>0</td>\n",
       "      <td>0</td>\n",
       "      <td>0</td>\n",
       "    </tr>\n",
       "    <tr>\n",
       "      <th>4</th>\n",
       "      <td>3</td>\n",
       "      <td>0</td>\n",
       "      <td>0</td>\n",
       "      <td>0</td>\n",
       "      <td>0</td>\n",
       "      <td>0</td>\n",
       "      <td>0</td>\n",
       "      <td>0</td>\n",
       "      <td>0</td>\n",
       "      <td>0</td>\n",
       "      <td>...</td>\n",
       "      <td>0</td>\n",
       "      <td>0</td>\n",
       "      <td>0</td>\n",
       "      <td>0</td>\n",
       "      <td>0</td>\n",
       "      <td>0</td>\n",
       "      <td>0</td>\n",
       "      <td>0</td>\n",
       "      <td>0</td>\n",
       "      <td>0</td>\n",
       "    </tr>\n",
       "  </tbody>\n",
       "</table>\n",
       "<p>5 rows × 785 columns</p>\n",
       "</div>"
      ],
      "text/plain": [
       "   label  pixel1  pixel2  pixel3  pixel4  pixel5  pixel6  pixel7  pixel8  \\\n",
       "0      2       0       0       0       0       0       0       0       0   \n",
       "1      9       0       0       0       0       0       0       0       0   \n",
       "2      6       0       0       0       0       0       0       0       5   \n",
       "3      0       0       0       0       1       2       0       0       0   \n",
       "4      3       0       0       0       0       0       0       0       0   \n",
       "\n",
       "   pixel9  ...  pixel775  pixel776  pixel777  pixel778  pixel779  pixel780  \\\n",
       "0       0  ...         0         0         0         0         0         0   \n",
       "1       0  ...         0         0         0         0         0         0   \n",
       "2       0  ...         0         0         0        30        43         0   \n",
       "3       0  ...         3         0         0         0         0         1   \n",
       "4       0  ...         0         0         0         0         0         0   \n",
       "\n",
       "   pixel781  pixel782  pixel783  pixel784  \n",
       "0         0         0         0         0  \n",
       "1         0         0         0         0  \n",
       "2         0         0         0         0  \n",
       "3         0         0         0         0  \n",
       "4         0         0         0         0  \n",
       "\n",
       "[5 rows x 785 columns]"
      ]
     },
     "execution_count": 13,
     "metadata": {
      "tags": []
     },
     "output_type": "execute_result"
    }
   ],
   "source": [
    "data = pd.read_csv('fashion-mnist_train.csv')\n",
    "print(data.shape)\n",
    "data.head()"
   ]
  },
  {
   "cell_type": "markdown",
   "metadata": {
    "colab_type": "text",
    "id": "hnyBIm_iL3Ka"
   },
   "source": [
    "So the training dataset consists of 28*28 pixels images. Each image corresponds to one fashion accessory. There are 61418 such images.\n",
    "\n",
    "The label column classifies the image. The labels are as follows:\n",
    "\n",
    "-  0 T-shirt/top \n",
    "- 1 Trouser \n",
    "- 2 Pullover \n",
    "- 3 Dress \n",
    "- 4 Coat \n",
    "- 5 Sandal \n",
    "- 6 Shirt \n",
    "- 7 Sneaker \n",
    "- 8 Bag \n",
    "- 9 Ankle boot"
   ]
  },
  {
   "cell_type": "markdown",
   "metadata": {
    "colab_type": "text",
    "id": "WCWL41y7OEQ2"
   },
   "source": [
    "Let's see first 25 images."
   ]
  },
  {
   "cell_type": "code",
   "execution_count": 0,
   "metadata": {
    "colab": {
     "base_uri": "https://localhost:8080/",
     "height": 486
    },
    "colab_type": "code",
    "id": "9IkwWStbNLL1",
    "outputId": "e850de71-a253-44f9-c684-b4bc16beb0d4"
   },
   "outputs": [
    {
     "data": {
      "image/png": "iVBORw0KGgoAAAANSUhEUgAAAeEAAAHVCAYAAADGoUO1AAAABHNCSVQICAgIfAhkiAAAAAlwSFlz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\nh7AxxhhTEv8fLiOKt8nyK54AAAAASUVORK5CYII=\n",
      "text/plain": [
       "<Figure size 576x576 with 25 Axes>"
      ]
     },
     "metadata": {
      "tags": []
     },
     "output_type": "display_data"
    }
   ],
   "source": [
    "img1 = data.iloc[:25,1:].values\n",
    "fig, ax = plt.subplots(nrows=5,ncols=5,sharey = True, sharex = True)\n",
    "fig.set_figwidth(8)\n",
    "fig.set_figheight(8)\n",
    "for i in range(5):\n",
    "  for j in range(5):\n",
    "    img = img1[i+j].reshape(28,28)\n",
    "    ax[i,j].imshow(img, cmap='gray')"
   ]
  },
  {
   "cell_type": "markdown",
   "metadata": {
    "colab_type": "text",
    "id": "a0M8vbx3QES8"
   },
   "source": [
    "## Deciding Neural Network Architecture\n",
    "\n",
    "\n",
    "Now let us begin decide our neural network architecture.\n",
    "\n",
    "Basically it would be a 3 layer neural network, with 28*28 = 784 input neurons. 1 neuron for each pixel in the image. \n",
    "\n",
    "Now we have to decide the no. of hidden layers and no. of neurons in each hidden Layer.\n",
    "Well it's always good to go with a single hidden layer. And going with the accepted answer on this question on stack overflow question[https://stats.stackexchange.com/questions/181/how-to-choose-the-number-of-hidden-layers-and-nodes-in-a-feedforward-neural-netw],\n",
    "the ***number of neurons in the hidden layer should be 350***.\n",
    "\n",
    "### But we are deliberately going to keep the number of neurons in the hidden layer equal to 150. And why do that? \n",
    "\n",
    "### I will let you know at the end. :)"
   ]
  },
  {
   "cell_type": "code",
   "execution_count": 22,
   "metadata": {
    "colab": {
     "base_uri": "https://localhost:8080/",
     "height": 52
    },
    "colab_type": "code",
    "id": "cf_oaCjqP3v3",
    "outputId": "744456b5-61ae-4d2c-8e5d-03875dd1a894"
   },
   "outputs": [
    {
     "name": "stdout",
     "output_type": "stream",
     "text": [
      "(60000, 784)\n",
      "(60000, 1)\n"
     ]
    }
   ],
   "source": [
    "input_layer_size = 784\n",
    "hidden_layer_size = 150\n",
    "output_layer_size = 10\n",
    "\n",
    "#Input and output data\n",
    "#Note that I am taking full data, that is 60,000 examples\n",
    "X = data.iloc[:,1:].values\n",
    "Y = data.iloc[:,0:1].values\n",
    "print(X.shape)\n",
    "print(Y.shape)\n",
    "\n",
    "m = X.shape[0]  #no. of training examples"
   ]
  },
  {
   "cell_type": "markdown",
   "metadata": {
    "colab_type": "text",
    "id": "bdosTV2Db96k"
   },
   "source": [
    "Now our activation function would be sigmoid or logistic function. So let us define it."
   ]
  },
  {
   "cell_type": "markdown",
   "metadata": {
    "colab_type": "text",
    "id": "EfxHJZAIAJvV"
   },
   "source": [
    "## Deciding activation function :\n",
    "## Sigmoid function\n",
    "\n",
    "We will use sigmoid function as our activation function.\n",
    "It looks something like this ![ ](/content/sigmoid_function.png)"
   ]
  },
  {
   "cell_type": "code",
   "execution_count": 0,
   "metadata": {
    "colab": {},
    "colab_type": "code",
    "id": "5HUeZMX0Wozs"
   },
   "outputs": [],
   "source": [
    "def sigmoid(z):\n",
    "  #returns the sigmoid of a matrix,vector or scalar\n",
    "  return 1/(1 + np.exp(-z))"
   ]
  },
  {
   "cell_type": "markdown",
   "metadata": {
    "colab_type": "text",
    "id": "l9rl-uCiBspu"
   },
   "source": [
    "## Coding the Backpropagation algorithm"
   ]
  },
  {
   "cell_type": "markdown",
   "metadata": {
    "colab_type": "text",
    "id": "JkS0MAKCmQHV"
   },
   "source": [
    "Now Let us write our code for backpropagation. \n",
    "This function first performs the forward propagation to compute ouput values for the passed in matrices $\\Theta^{1}$ and $\\Theta^{2}$. And then it performs back propagation to compute the vectors $\\delta^{1}$ and $\\delta^{2}$. \n",
    "\n",
    "Using $\\delta^{1}$ and $\\delta^{2}$, it compute $\\Delta^{1}$ and $\\Delta^{2}$.\n",
    "and which are then finally used to compute $D^{1}$ and $D^{2}$ respectively."
   ]
  },
  {
   "cell_type": "code",
   "execution_count": 0,
   "metadata": {
    "colab": {},
    "colab_type": "code",
    "id": "fDVdnp6Qfyex"
   },
   "outputs": [],
   "source": [
    "#we will require this in the backpropagation algorithm\n",
    "def sigmoidGradient(z):\n",
    "  \n",
    "  return sigmoid(z)*(1 - sigmoid(z))"
   ]
  },
  {
   "cell_type": "code",
   "execution_count": 0,
   "metadata": {
    "colab": {},
    "colab_type": "code",
    "id": "edHX6aJEWDZs"
   },
   "outputs": [],
   "source": [
    "#We will create an algorithm independent of this particular application\n",
    "def backPropagation(X, Y, Theta1, Theta2, lambda_=0.0):\n",
    "  \n",
    "  m = X.shape[0]\n",
    "  \n",
    "  J = 0                                          #J is our cost function\n",
    "  \n",
    "  Theta1_grad = np.zeros(Theta1.shape)\n",
    "  Theta2_grad = np.zeros(Theta2.shape)\n",
    "  \n",
    "  for i in range(m):\n",
    "    a_1 = np.hstack((np.ones((1)),X[i]))         # added bias to input layer\n",
    "    z_2 = np.dot(Theta1,a_1)\n",
    "    a_2 = np.hstack((np.ones(1), sigmoid(z_2)))  # added bias to hidden layer\n",
    "    z_3 = np.dot(Theta2, a_2)\n",
    "    a_3 = sigmoid(z_3)\n",
    "    \n",
    "    '''Since our data set has only Y labeled from 0-9, but to perform multiclass\n",
    "       Classification using neural networks, we need it to be in form of vector\n",
    "       of size = ouput layer size'''\n",
    "    \n",
    "    y = np.zeros(output_layer_size)\n",
    "    \n",
    "    y[int(Y[i])]= 1\n",
    "    \n",
    "    delta_3 = a_3 - y\n",
    "    delta_2 = np.dot(Theta2[:,1:].T, delta_3)*sigmoidGradient(z_2)\n",
    "    \n",
    "    Theta1_grad = Theta1_grad + np.dot(delta_2.reshape(delta_2.shape[0],1), \n",
    "                                       a_1.reshape(a_1.shape[0],1).T)\n",
    "    Theta2_grad = Theta2_grad + np.dot(delta_3.reshape(delta_3.shape[0],1),\n",
    "                                       a_2.reshape(a_2.shape[0],1).T)\n",
    "    \n",
    "    #calculating cost function\n",
    "    J += np.sum(-y*np.log(a_3) - (1 - y)*np.log(1 - a_3))\n",
    "    \n",
    "  \n",
    "  #calculating regularised cost function \n",
    "  #note that we are not including the 1st column \n",
    "  J = J/m + (lambda_/(2*m))*(np.sum(Theta1[:,1:]**2) + np.sum(Theta2[:,1:]**2))\n",
    "\n",
    "  D_1 = np.hstack( ((1/m)*Theta1_grad[:,0:1], \n",
    "                   (1/m)*(Theta1_grad[:,1:] + lambda_*Theta1[:,1:])))\n",
    "                  \n",
    "  D_2 = np.hstack(((1/m)*Theta2_grad[:,0:1], \n",
    "                   (1/m)*(Theta2_grad[:,1:] + lambda_*Theta2[:,1:])))\n",
    "  \n",
    "  return J,D_1,D_2\n",
    "                  "
   ]
  },
  {
   "cell_type": "markdown",
   "metadata": {
    "colab_type": "text",
    "id": "jMr2hKJcCOHu"
   },
   "source": [
    "## Gradient Descent"
   ]
  },
  {
   "cell_type": "markdown",
   "metadata": {
    "colab_type": "text",
    "id": "OLrA9Jp2niuH"
   },
   "source": [
    "Now let us define our Gradient Descen function. \n",
    "\n",
    "Basically Gradient Descent has the function of minimizing the cost function by changing the matrices Theta, which are responsible for predicting the ouptut. \n",
    "\n",
    "Basically Gradient Descent performs the following function :\n",
    "\n",
    "\n",
    "***repeat until convergence ***: {\n",
    "\n",
    "$\\Theta^{(l)}_{i,j} =  \\Theta^{(l)}_{i,j}  - \\alpha \\frac{\\partial }{\\partial \\Theta^{(l)}_{i,j}}J(\\Theta)$\n",
    "   \n",
    "} ***simultaneous update for all {$i$ , $j$, $l$ }***\n",
    "\n",
    "\n",
    "And the second term $ \\frac{\\partial }{\\partial \\Theta^{(l)}_{i,j}}J(\\Theta)$ , is given by our beautiful ***Backpropagation algorithm***."
   ]
  },
  {
   "cell_type": "markdown",
   "metadata": {
    "colab_type": "text",
    "id": "516euC3tVvNG"
   },
   "source": [
    "One thing that I learned from performing this simulation completely 4 times, each time taking roughly of 13 hours is that you must save your ***intermediate results and download them***.\n",
    "\n",
    "***Especially if you are using google collab, which disconnects any instance(like after 4-5  hours) with no reason(happened to me :) ).***\n",
    "\n",
    "So let's define a function which will help us save our files."
   ]
  },
  {
   "cell_type": "code",
   "execution_count": 0,
   "metadata": {
    "colab": {},
    "colab_type": "code",
    "id": "wg2Zv5qaUd8N"
   },
   "outputs": [],
   "source": [
    "#def get_all_file_paths(directory): \n",
    "    #thanks geeksforgeeks\n",
    "    \n",
    "    #file_paths = [] \n",
    "    \n",
    "    #crawling through directory and subdirectories \n",
    "    #for root, directories, files in os.walk(directory): \n",
    "        #for filename in files: \n",
    "            # join the two strings in order to form the full filepath. \n",
    "            #filepath = os.path.join(root, filename) \n",
    "            #file_paths.append(filepath) \n",
    "  \n",
    "    #return file_paths     \n",
    "\n",
    "def save_file(cost_func, Theta1, Theta2, iteration):\n",
    "  \n",
    "    #file_name = f'iteration {iteration}'\n",
    "    #print(f'Saving the data till {iteration} in file',file_name)\n",
    "\n",
    "    df_Theta1 = pd.DataFrame(Theta1)\n",
    "    df_Theta2 = pd.DataFrame(Theta2)\n",
    "    df_Cost_func = pd.DataFrame(cost_func)\n",
    "\n",
    "    #directory = '/content/{}'.format(file_name)\n",
    "    \n",
    "    #exists = os.path.isfile(directory)\n",
    "    #os.mkdir(directory)\n",
    "    #os.chdir(directory)\n",
    "\n",
    "    df_Theta1.to_csv('/content/Theta1_{}.csv'.format(iteration))\n",
    "    df_Theta2.to_csv('/content/Theta2_{}.csv'.format(iteration))\n",
    "    df_Cost_func.to_csv('/content/Cost_Func_{}.csv'.format(iteration))\n",
    "   \n",
    "    #getting back to main driectory\n",
    "    #os.chdir('../../')\n",
    "  \n",
    "    #file_paths = get_all_file_paths(directory) \n",
    "    \n",
    "    #zip_file_name = f'{file_name}.zip'\n",
    "    #with ZipFile(zip_file_name,'w') as zip:  \n",
    "        #for file in file_paths: \n",
    "            #zip.write(file) \n",
    "\n",
    "    #files.download(zip_file_name)\n",
    "    \n",
    "    files.download('/content/Theta1_{}.csv'.format(iteration))\n",
    "    files.download('/content/Theta2_{}.csv'.format(iteration))\n",
    "    files.download('/content/Cost_Func_{}.csv'.format(iteration))\n",
    "    \n",
    "    print('All files zipped successfully and downloaded!')       "
   ]
  },
  {
   "cell_type": "code",
   "execution_count": 0,
   "metadata": {
    "colab": {},
    "colab_type": "code",
    "id": "lf0co_yknhv6"
   },
   "outputs": [],
   "source": [
    "def Gradient_Descent(X, Y, learning_rate, iterations, \n",
    "                      input_layer_size, \n",
    "                      hidden_layer_size, \n",
    "                      output_layer_size, \n",
    "                      initial_iteration,\n",
    "                      lambda_):\n",
    "    \n",
    "    print('shape of training dataset',X.shape)\n",
    "    print('input layer size =',input_layer_size)\n",
    "    print('hidden layer size =',hidden_layer_size)\n",
    "    print('output layer size =',output_layer_size)\n",
    "    \n",
    "    \n",
    "    if initial_iteration==0:\n",
    "      Theta1 = randInitializeWeights(input_layer_size, hidden_layer_size)\n",
    "      Theta2 = randInitializeWeights(hidden_layer_size, output_layer_size)\n",
    "      cost_func = []\n",
    "    else:\n",
    "      theta1_df = pd.read_csv('/content/Theta1_700.csv')\n",
    "      theta2_df = pd.read_csv('/content/Theta2_700.csv')\n",
    "      cf_df = pd.read_csv('/content/Cost_Func_700.csv')\n",
    "      print('Continued from iteration',initial_iteration)\n",
    "    \n",
    "    Theta1 = theta1_df.values[:,1:]  #avoiding that first irrelevant coloumn\n",
    "    Theta2 = theta2_df.values[:,1:]\n",
    "    cost_func = cf_df.values[:,1:].reshape(cf_df.shape[0]).tolist()  #ndarray to list\n",
    "    \n",
    "    interupt = initial_iteration + 100\n",
    "    curr_irr = 0\n",
    "    \n",
    "    for i in range(initial_iteration,iterations):\n",
    "      \n",
    "      c_f, Theta1_grad, Theta2_grad = backPropagation(X, Y, Theta1, Theta2, lambda_)\n",
    "      cost_func.append(c_f)\n",
    "      \n",
    "\n",
    "      if i>=1 and cost_func[i]>cost_func[i-1]:\n",
    "        print('Cost function increasing')\n",
    "        break\n",
    "      \n",
    "      Theta1 = Theta1 - learning_rate*Theta1_grad\n",
    "      Theta2 = Theta2 - learning_rate*Theta2_grad\n",
    "      \n",
    "      if (i+1)%25==0:\n",
    "        print('epoch',i+1,'completed. cf =',c_f)\n",
    "      \n",
    "      # Showing me the progress\n",
    "      if (i+1)==interupt:\n",
    "        plt.plot(np.arange(i+1), cost_func)\n",
    "        plt.show()\n",
    "        print('Here is the cost function!')\n",
    "        #a = input('Do u want to continue further? ')\n",
    "        #if a!='y':\n",
    "        #break\n",
    "        #else:\n",
    "        #print('Next interupt will be at',interupt)\n",
    "        interupt += 100\n",
    "          \n",
    "        save_file(cost_func, Theta1, Theta2, i+1)\n",
    "        curr_irr = i+1\n",
    "      \n",
    "    return cost_func, curr_irr, Theta1, Theta2"
   ]
  },
  {
   "cell_type": "markdown",
   "metadata": {
    "colab_type": "text",
    "id": "008n5aoWwyZV"
   },
   "source": [
    "We must always initialise the weights, i.e. matrices $\\Theta_1$ and $\\Theta_2$, with random values close to 0. One good method is to keep their domain as [ - $\\epsilon$,  $\\epsilon$],  where:\n",
    "\n",
    "##  $\\epsilon =  \\frac{\\sqrt{6}}{ L_{in} + L_{out}}$ \n",
    "\n",
    "$L_{in}$ = no. of units in input layer\n",
    "\n",
    "$L_{out}$ = np. of units in outpu layer."
   ]
  },
  {
   "cell_type": "code",
   "execution_count": 0,
   "metadata": {
    "colab": {},
    "colab_type": "code",
    "id": "j3wM9V0TwtaE"
   },
   "outputs": [],
   "source": [
    "def randInitializeWeights(L_in, L_out):\n",
    "  \n",
    "  #for now I am using 0.5 as that value was coming very small.\n",
    "  epsilon_init = 0.5\n",
    "  \n",
    "  Theta = np.random.rand(L_out, L_in +1)*2*epsilon_init - epsilon_init\n",
    "  \n",
    "  return Theta"
   ]
  },
  {
   "cell_type": "markdown",
   "metadata": {
    "colab_type": "text",
    "id": "Q6bDdIWlCd0H"
   },
   "source": [
    "# Training our model :)"
   ]
  },
  {
   "cell_type": "markdown",
   "metadata": {
    "colab_type": "text",
    "id": "NvSZIyYp2MTP"
   },
   "source": [
    "Now let us train our model."
   ]
  },
  {
   "cell_type": "code",
   "execution_count": 0,
   "metadata": {
    "colab": {
     "base_uri": "https://localhost:8080/",
     "height": 1902
    },
    "colab_type": "code",
    "id": "Cap0vGDp2QKP",
    "outputId": "ec024471-0f81-47b8-8aba-5a2293eba5ac"
   },
   "outputs": [
    {
     "name": "stdout",
     "output_type": "stream",
     "text": [
      "shape of training dataset (60000, 784)\n",
      "input layer size = 784\n",
      "hidden layer size = 150\n",
      "output layer size = 10\n",
      "Continued from iteration 700\n"
     ]
    },
    {
     "name": "stderr",
     "output_type": "stream",
     "text": [
      "/usr/local/lib/python3.6/dist-packages/ipykernel_launcher.py:3: RuntimeWarning: overflow encountered in exp\n",
      "  This is separate from the ipykernel package so we can avoid doing imports until\n"
     ]
    },
    {
     "name": "stdout",
     "output_type": "stream",
     "text": [
      "epoch 725 completed. cf = 2.650082201117869\n",
      "epoch 750 completed. cf = 2.6370928409052006\n",
      "epoch 775 completed. cf = 2.6242137457065637\n",
      "epoch 800 completed. cf = 2.612073156980316\n"
     ]
    },
    {
     "data": {
      "image/png": "iVBORw0KGgoAAAANSUhEUgAAAXQAAAD9CAYAAACsq4z3AAAABHNCSVQICAgIfAhkiAAAAAlwSFlz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\nTkSuQmCC\n",
      "text/plain": [
       "<Figure size 432x288 with 1 Axes>"
      ]
     },
     "metadata": {
      "tags": []
     },
     "output_type": "display_data"
    },
    {
     "name": "stdout",
     "output_type": "stream",
     "text": [
      "Here is the cost function!\n",
      "All files zipped successfully and downloaded!\n",
      "epoch 825 completed. cf = 2.6003183363534697\n",
      "epoch 850 completed. cf = 2.5890087378301034\n",
      "epoch 875 completed. cf = 2.5779695535706986\n",
      "epoch 900 completed. cf = 2.5673358408903906\n"
     ]
    },
    {
     "data": {
      "image/png": "iVBORw0KGgoAAAANSUhEUgAAAXQAAAD9CAYAAACsq4z3AAAABHNCSVQICAgIfAhkiAAAAAlwSFlz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\n",
      "text/plain": [
       "<Figure size 432x288 with 1 Axes>"
      ]
     },
     "metadata": {
      "tags": []
     },
     "output_type": "display_data"
    },
    {
     "name": "stdout",
     "output_type": "stream",
     "text": [
      "Here is the cost function!\n",
      "All files zipped successfully and downloaded!\n",
      "epoch 925 completed. cf = 2.5569367476068776\n",
      "epoch 950 completed. cf = 2.547030049469245\n",
      "epoch 975 completed. cf = 2.537341160981933\n",
      "epoch 1000 completed. cf = 2.528179732205756\n"
     ]
    },
    {
     "data": {
      "image/png": "iVBORw0KGgoAAAANSUhEUgAAAXQAAAD9CAYAAACsq4z3AAAABHNCSVQICAgIfAhkiAAAAAlwSFlz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\nYoljWQoAAAAASUVORK5CYII=\n",
      "text/plain": [
       "<Figure size 432x288 with 1 Axes>"
      ]
     },
     "metadata": {
      "tags": []
     },
     "output_type": "display_data"
    },
    {
     "name": "stdout",
     "output_type": "stream",
     "text": [
      "Here is the cost function!\n",
      "All files zipped successfully and downloaded!\n",
      "epoch 1025 completed. cf = 2.5193819170403944\n",
      "epoch 1050 completed. cf = 2.5107715428724187\n",
      "epoch 1075 completed. cf = 2.5023473611891003\n",
      "epoch 1100 completed. cf = 2.4943187475935384\n"
     ]
    },
    {
     "data": {
      "image/png": "iVBORw0KGgoAAAANSUhEUgAAAXQAAAD9CAYAAACsq4z3AAAABHNCSVQICAgIfAhkiAAAAAlwSFlz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\nAABJRU5ErkJggg==\n",
      "text/plain": [
       "<Figure size 432x288 with 1 Axes>"
      ]
     },
     "metadata": {
      "tags": []
     },
     "output_type": "display_data"
    },
    {
     "name": "stdout",
     "output_type": "stream",
     "text": [
      "Here is the cost function!\n",
      "All files zipped successfully and downloaded!\n",
      "epoch 1125 completed. cf = 2.4864820736602917\n",
      "epoch 1150 completed. cf = 2.478818351370708\n",
      "epoch 1175 completed. cf = 2.4715699041589296\n",
      "epoch 1200 completed. cf = 2.4644364863152677\n"
     ]
    },
    {
     "data": {
      "image/png": "iVBORw0KGgoAAAANSUhEUgAAAXQAAAD9CAYAAACsq4z3AAAABHNCSVQICAgIfAhkiAAAAAlwSFlz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\n8f8BrGNl4Dyw8rUAAAAASUVORK5CYII=\n",
      "text/plain": [
       "<Figure size 432x288 with 1 Axes>"
      ]
     },
     "metadata": {
      "tags": []
     },
     "output_type": "display_data"
    },
    {
     "name": "stdout",
     "output_type": "stream",
     "text": [
      "Here is the cost function!\n",
      "All files zipped successfully and downloaded!\n"
     ]
    }
   ],
   "source": [
    "itr = 1500\n",
    "lambda_ = 10\n",
    "initial_iteration = 700\n",
    "cost_func_final, total_itr, Theta1_final, Theta2_final = Gradient_Descent(X, Y, 0.008, itr, \n",
    "                                                         input_layer_size, \n",
    "                                                         hidden_layer_size, \n",
    "                                                         output_layer_size, \n",
    "                                                         initial_iteration,lambda_)\n",
    "plt.plot(np.arange(total_itr),cost_func_final)"
   ]
  },
  {
   "cell_type": "markdown",
   "metadata": {
    "colab_type": "text",
    "id": "qOxicEAoDMpe"
   },
   "source": [
    "## Testing our model    :)"
   ]
  },
  {
   "cell_type": "markdown",
   "metadata": {
    "colab_type": "text",
    "id": "DhlfrRtw6hTs"
   },
   "source": [
    "Eventhough it is showing only 1200 epochs above, I did a total of 1400 epochs. So let's test our model now."
   ]
  },
  {
   "cell_type": "code",
   "execution_count": 0,
   "metadata": {
    "colab": {},
    "colab_type": "code",
    "id": "rUmwlWNnLWD9"
   },
   "outputs": [],
   "source": [
    "test_data = pd.read_csv('fashion-mnist_test.csv')\n",
    "\n",
    "X_test = test_data.values[:,1:]\n",
    "Y_test = test_data.values[:,:1]\n",
    "\n",
    "   \n",
    "cf_df = pd.read_csv('/content/Cost_Func_1400.csv')\n",
    "cf_final = cf_df.values[:,1:].reshape(cf_df.shape[0]).tolist()  #ndarray to list\n",
    "Theta1_final = pd.read_csv('/content/Theta1_1400.csv').values[:,1:]\n",
    "Theta2_final = pd.read_csv('/content/Theta2_1400.csv').values[:,1:]"
   ]
  },
  {
   "cell_type": "markdown",
   "metadata": {
    "colab_type": "text",
    "id": "aMYQngvTJ-Us"
   },
   "source": [
    "Now let us define predict function which takes in our testing data set X_test, and our calculated weights Theta1 and Theta2. This function returns us the prediction of our model in form of a numpy array, corresponding to every row in our testing dataset X_test."
   ]
  },
  {
   "cell_type": "code",
   "execution_count": 0,
   "metadata": {
    "colab": {},
    "colab_type": "code",
    "id": "qV7l4nIJ3BWo"
   },
   "outputs": [],
   "source": [
    "def predict(Theta1 ,Theta2 ,X_test):\n",
    "    \n",
    "    t = X_test.shape[0]\n",
    "    y_predict = np.ones(t)*-1\n",
    "    \n",
    "    for i in range(t):\n",
    "      a_1 = np.hstack((np.ones((1)),X_test[i]))         # added bias to input layer\n",
    "      z_2 = np.dot(Theta1,a_1)\n",
    "      a_2 = np.hstack((np.ones(1), sigmoid(z_2)))  # added bias to hidden layer\n",
    "      z_3 = np.dot(Theta2, a_2)\n",
    "      a_3 = sigmoid(z_3)  \n",
    "    \n",
    "      y_predict[i] = np.argmax(a_3)\n",
    "      \n",
    "    return y_predict"
   ]
  },
  {
   "cell_type": "code",
   "execution_count": 0,
   "metadata": {
    "colab": {},
    "colab_type": "code",
    "id": "F9gmdnw-bkDS"
   },
   "outputs": [],
   "source": [
    "def get_name(y):\n",
    "  \n",
    "  names_dict = {\n",
    "        0: 'T-shirt/top',\n",
    "        1: 'Trouser',\n",
    "        2: 'Pullover', \n",
    "        3: 'Dress' ,\n",
    "        4: 'Coat' ,\n",
    "        5: 'Sandal', \n",
    "        6: 'Shirt' ,\n",
    "        7: 'Sneaker', \n",
    "        8: 'Bag' ,\n",
    "        9: 'Ankle boot'\n",
    "  }\n",
    "  return names_dict[y]"
   ]
  },
  {
   "cell_type": "markdown",
   "metadata": {
    "colab_type": "text",
    "id": "ZvJgwm0uFY9n"
   },
   "source": [
    "For checking .. let us check our model on the first 10 pictures of our data."
   ]
  },
  {
   "cell_type": "code",
   "execution_count": 31,
   "metadata": {
    "colab": {
     "base_uri": "https://localhost:8080/",
     "height": 177
    },
    "colab_type": "code",
    "id": "uqtVFfcldFZA",
    "outputId": "a0e472b9-0c00-4da1-a77f-af1fbbe93d40"
   },
   "outputs": [
    {
     "name": "stderr",
     "output_type": "stream",
     "text": [
      "/usr/local/lib/python3.6/dist-packages/ipykernel_launcher.py:3: RuntimeWarning: overflow encountered in exp\n",
      "  This is separate from the ipykernel package so we can avoid doing imports until\n"
     ]
    },
    {
     "data": {
      "image/png": "iVBORw0KGgoAAAANSUhEUgAAAeMAAAB9CAYAAACRbAu/AAAABHNCSVQICAgIfAhkiAAAAAlwSFlz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\nSUVORK5CYII=\n",
      "text/plain": [
       "<Figure size 576x576 with 5 Axes>"
      ]
     },
     "metadata": {
      "tags": []
     },
     "output_type": "display_data"
    }
   ],
   "source": [
    "img1 = X[:5,:]\n",
    "fig, ax = plt.subplots(nrows=1,ncols=5,sharey = True, sharex = True)\n",
    "fig.set_figwidth(8)\n",
    "fig.set_figheight(8)\n",
    "\n",
    "for i in range(5):\n",
    "    img = img1[i].reshape(28,28)\n",
    "    ax[i].imshow(img, cmap='gray')\n",
    "    ax[i].set_xlabel(get_name(int(predict(Theta1_final, Theta2_final,X[i:i+1,:]))))"
   ]
  },
  {
   "cell_type": "markdown",
   "metadata": {
    "colab_type": "text",
    "id": "ZDNjD7k7GAAF"
   },
   "source": [
    "That looks great. "
   ]
  },
  {
   "cell_type": "markdown",
   "metadata": {
    "colab_type": "text",
    "id": "lBlpIAuFGD5m"
   },
   "source": [
    "## TESTING ACCURACY\n",
    "\n",
    "Let us test the accuracy of our neural network using the scikit learn's accuracy_score"
   ]
  },
  {
   "cell_type": "code",
   "execution_count": 0,
   "metadata": {
    "colab": {},
    "colab_type": "code",
    "id": "o5PqDlkFGYOu"
   },
   "outputs": [],
   "source": [
    "from sklearn.metrics import accuracy_score"
   ]
  },
  {
   "cell_type": "markdown",
   "metadata": {
    "colab_type": "text",
    "id": "2ZXIy-E3Ap2W"
   },
   "source": [
    "### Accuracy on Training Data:"
   ]
  },
  {
   "cell_type": "code",
   "execution_count": 33,
   "metadata": {
    "colab": {
     "base_uri": "https://localhost:8080/",
     "height": 69
    },
    "colab_type": "code",
    "id": "PeTL-tShAtyR",
    "outputId": "55bfbdd4-b4ce-4f28-e309-6822267c4f28"
   },
   "outputs": [
    {
     "name": "stderr",
     "output_type": "stream",
     "text": [
      "/usr/local/lib/python3.6/dist-packages/ipykernel_launcher.py:3: RuntimeWarning: overflow encountered in exp\n",
      "  This is separate from the ipykernel package so we can avoid doing imports until\n"
     ]
    },
    {
     "name": "stdout",
     "output_type": "stream",
     "text": [
      "0.6962333333333334\n"
     ]
    }
   ],
   "source": [
    "Y_Pred_train = predict(Theta1_final, Theta2_final, X)\n",
    "print(accuracy_score(Y,Y_Pred_train))"
   ]
  },
  {
   "cell_type": "markdown",
   "metadata": {
    "colab_type": "text",
    "id": "Ap1hycHLAuQW"
   },
   "source": [
    "### Accuracy on Testing Data:"
   ]
  },
  {
   "cell_type": "code",
   "execution_count": 34,
   "metadata": {
    "colab": {
     "base_uri": "https://localhost:8080/",
     "height": 69
    },
    "colab_type": "code",
    "id": "0AEEp3BsBQiX",
    "outputId": "dc403859-bdf2-4af0-8a8f-d539874e8fdc"
   },
   "outputs": [
    {
     "name": "stderr",
     "output_type": "stream",
     "text": [
      "/usr/local/lib/python3.6/dist-packages/ipykernel_launcher.py:3: RuntimeWarning: overflow encountered in exp\n",
      "  This is separate from the ipykernel package so we can avoid doing imports until\n"
     ]
    },
    {
     "name": "stdout",
     "output_type": "stream",
     "text": [
      "0.6938\n"
     ]
    }
   ],
   "source": [
    "Y_Pred_test = predict(Theta1_final, Theta2_final, X_test)\n",
    "print(accuracy_score(Y_test,Y_Pred_test))"
   ]
  },
  {
   "cell_type": "markdown",
   "metadata": {
    "colab_type": "text",
    "id": "7syQD8EkbMQT"
   },
   "source": [
    "## Discussing Accuracy of the model:\n",
    "- If you have noticed properly that, our Neural Network doesn't perform well. It has only 70% accuracy on both the Training set and Testing Set.\n",
    "\n",
    "  ### What does it signify?\n",
    "  \n",
    "   -  It signifies that our model is suffering with a high bias (underfitting) problem.\n",
    "       And the reason is that, we have used less number of hidden neurons in our hidden layer. \n",
    "       \n",
    "   - The less number of neurons in the hidden layer prevent the model for fitting complex functions. And thus it has high error on both Training data and Testing data.\n",
    "   \n",
    "## How to solve it?\n",
    "- Simple increase the number of neurons in the hidden layer.Head over to the next Neural Net 2.Here is the [link](https://github.com/Sachinkumar04428/Machine-Learning-by-Andrew-Ng-Implementation-in-Python/blob/master/Neural%20Networks%20from%20Scratch/Multiclass%20Classification%20Neural%20Network/Neural%20net%20from%20Scratch%202%20\(more_neurons\).ipynb)\n",
    "\n",
    "### Now u may be thinking how did I come to this conclusion and the solution?\n",
    "### Simple I have some tricks... want to know?\n",
    "### Head over to my next notebook on [Tricks for Applying Machine Learning](https://github.com/Sachinkumar04428/Machine-Learning-by-Andrew-Ng-Implementation-in-Python/blob/master/Algorithms%20%26%20Best%20Practices/Supervised%20Learning%20Algorithms/Bias%2CVariance_and_Learning_Curves.ipynb)"
   ]
  },
  {
   "cell_type": "markdown",
   "metadata": {
    "colab_type": "text",
    "id": "3tIOaKUwW_Wc"
   },
   "source": [
    "## Lessons learned while making this neural network\n",
    "- There are high chances that you might do a silly mistake while coding it from scratch.\n",
    "\n",
    "  For eg. I had used a '+' in the gradient descent algorithm,\n",
    "  \n",
    "  $\\Theta^{(l)}_{i,j} =  \\Theta^{(l)}_{i,j}  - \\alpha \\frac{\\partial }{\\partial \\Theta^{(l)}_{i,j}}J(\\Theta)$\n",
    "  \n",
    "  instead of a '-' and it my cost function kept increasing. It took me a day to figure it out.\n",
    " \n",
    "-  It's better to start with a smaller implementation with less amount of data, instead of picking up a dataset with 60,000 training example like me. As it takes less time to train such neural networks. \n",
    "\n",
    "    When you are beginning you can't wait for such long time of training, only to find at the end that you made some mistake, and you need to correct it and again wait for so long to train the model. \n",
    "\n",
    "   ***It took my model an hour to complete 100 iterations on a NVIDIA Tesla T4 GPU. Total of 14 hours (1400 iterations) to completely train the model.***\n",
    "\n",
    "- Always ***save your intermediate weights ($\\Theta^1$, $\\Theta^2$, ...) and  other parameters***, it takes a lot of time training the model, if you begin again. \n",
    "\n",
    "- While coding the neural network, you will have to debug it a lot of times, so it is always better to ***keep the methods modular*** and ***use vectorisation (i.e. use matrix multiplications instead of for loops)***."
   ]
  },
  {
   "cell_type": "markdown",
   "metadata": {
    "colab_type": "text",
    "id": "lDJYuBdzAOsI"
   },
   "source": [
    "## More Neural Networks are on the way. \n",
    "\n",
    "I trained this neural network again with ***more neurons in the hidden layer*** and ***Feature Scaling*** to improve it's accuaracy, I will soon update it in the repo."
   ]
  }
 ],
 "metadata": {
  "accelerator": "GPU",
  "colab": {
   "collapsed_sections": [],
   "name": "NEw Copy of Multiclassification Neural Network from Scratch 1.ipynb",
   "provenance": [],
   "toc_visible": true,
   "version": "0.3.2"
  },
  "kernelspec": {
   "display_name": "Python 3",
   "language": "python",
   "name": "python3"
  },
  "language_info": {
   "codemirror_mode": {
    "name": "ipython",
    "version": 3
   },
   "file_extension": ".py",
   "mimetype": "text/x-python",
   "name": "python",
   "nbconvert_exporter": "python",
   "pygments_lexer": "ipython3",
   "version": "3.6.4"
  }
 },
 "nbformat": 4,
 "nbformat_minor": 1
}
