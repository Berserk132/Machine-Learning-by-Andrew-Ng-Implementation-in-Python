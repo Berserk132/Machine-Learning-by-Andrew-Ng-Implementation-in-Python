{
  "nbformat": 4,
  "nbformat_minor": 0,
  "metadata": {
    "colab": {
      "name": "Spider Inductions Easy Task.ipynb",
      "version": "0.3.2",
      "provenance": [],
      "collapsed_sections": [],
      "toc_visible": true
    },
    "kernelspec": {
      "name": "python3",
      "display_name": "Python 3"
    },
    "accelerator": "GPU"
  },
  "cells": [
    {
      "cell_type": "markdown",
      "metadata": {
        "id": "zy4-uZoO-PIo",
        "colab_type": "text"
      },
      "source": [
        "- author: Sachin kumar\n",
        "- roll no: 108118083\n",
        "- domain: Signal Processing and ML\n",
        "- sub-domain: Machine Learning"
      ]
    },
    {
      "cell_type": "markdown",
      "metadata": {
        "id": "litIuhtLWj_X",
        "colab_type": "text"
      },
      "source": [
        "###Mounting the drive to get the dataset"
      ]
    },
    {
      "cell_type": "code",
      "metadata": {
        "id": "5eEjhjZGV25d",
        "colab_type": "code",
        "outputId": "b89a9187-c238-4f69-a273-6723e71b271b",
        "colab": {
          "base_uri": "https://localhost:8080/",
          "height": 122
        }
      },
      "source": [
        "from google.colab import drive\n",
        "drive.mount('/content/drive')"
      ],
      "execution_count": 1,
      "outputs": [
        {
          "output_type": "stream",
          "text": [
            "Go to this URL in a browser: https://accounts.google.com/o/oauth2/auth?client_id=947318989803-6bn6qk8qdgf4n4g3pfee6491hc0brc4i.apps.googleusercontent.com&redirect_uri=urn%3Aietf%3Awg%3Aoauth%3A2.0%3Aoob&scope=email%20https%3A%2F%2Fwww.googleapis.com%2Fauth%2Fdocs.test%20https%3A%2F%2Fwww.googleapis.com%2Fauth%2Fdrive%20https%3A%2F%2Fwww.googleapis.com%2Fauth%2Fdrive.photos.readonly%20https%3A%2F%2Fwww.googleapis.com%2Fauth%2Fpeopleapi.readonly&response_type=code\n",
            "\n",
            "Enter your authorization code:\n",
            "··········\n",
            "Mounted at /content/drive\n"
          ],
          "name": "stdout"
        }
      ]
    },
    {
      "cell_type": "markdown",
      "metadata": {
        "id": "P2R60jy1XFQ_",
        "colab_type": "text"
      },
      "source": [
        "### Importing necessary modules"
      ]
    },
    {
      "cell_type": "code",
      "metadata": {
        "id": "FRorB50mXEUb",
        "colab_type": "code",
        "colab": {}
      },
      "source": [
        "import os\n",
        "import numpy as np\n",
        "import pandas as pd\n",
        "import matplotlib.pyplot as plt\n",
        "import warnings\n",
        "#To avoid seeing warnings more than once\n",
        "warnings.filterwarnings(action='ignore')\n",
        "\n",
        "#importing self written NNmodel module\n",
        "import NNmodel"
      ],
      "execution_count": 0,
      "outputs": []
    },
    {
      "cell_type": "markdown",
      "metadata": {
        "id": "_u7ntYjYhO7F",
        "colab_type": "text"
      },
      "source": [
        "Importing the data from google drive"
      ]
    },
    {
      "cell_type": "code",
      "metadata": {
        "id": "Y5UdzzVCWUz1",
        "colab_type": "code",
        "colab": {}
      },
      "source": [
        "directory = '/content/drive/My Drive/Inductions/Easy task'\n",
        "train_dataset = pd.read_csv(f'{directory}/train.csv', error_bad_lines = False)  #removing the incorrect data\n",
        "val_dataset = pd.read_csv(f'{directory}/cross_val.csv', error_bad_lines = False) "
      ],
      "execution_count": 0,
      "outputs": []
    },
    {
      "cell_type": "markdown",
      "metadata": {
        "id": "QPD45XZ1hS_d",
        "colab_type": "text"
      },
      "source": [
        "Having a peek at the Dataset."
      ]
    },
    {
      "cell_type": "code",
      "metadata": {
        "id": "D_V-CnQblaRQ",
        "colab_type": "code",
        "outputId": "4f0dc6b7-75b9-4c43-dd52-4242cb8c6df4",
        "colab": {
          "base_uri": "https://localhost:8080/",
          "height": 281
        }
      },
      "source": [
        "train_dataset.head(3)"
      ],
      "execution_count": 3,
      "outputs": [
        {
          "output_type": "execute_result",
          "data": {
            "text/html": [
              "<div>\n",
              "<style scoped>\n",
              "    .dataframe tbody tr th:only-of-type {\n",
              "        vertical-align: middle;\n",
              "    }\n",
              "\n",
              "    .dataframe tbody tr th {\n",
              "        vertical-align: top;\n",
              "    }\n",
              "\n",
              "    .dataframe thead th {\n",
              "        text-align: right;\n",
              "    }\n",
              "</style>\n",
              "<table border=\"1\" class=\"dataframe\">\n",
              "  <thead>\n",
              "    <tr style=\"text-align: right;\">\n",
              "      <th></th>\n",
              "      <th>ID</th>\n",
              "      <th>Case Number</th>\n",
              "      <th>Date</th>\n",
              "      <th>Block</th>\n",
              "      <th>IUCR</th>\n",
              "      <th>Primary Type</th>\n",
              "      <th>Description</th>\n",
              "      <th>Location Description</th>\n",
              "      <th>Arrest</th>\n",
              "      <th>Domestic</th>\n",
              "      <th>Beat</th>\n",
              "      <th>District</th>\n",
              "      <th>Ward</th>\n",
              "      <th>Community Area</th>\n",
              "      <th>FBI Code</th>\n",
              "      <th>X Coordinate</th>\n",
              "      <th>Y Coordinate</th>\n",
              "      <th>Year</th>\n",
              "      <th>Updated On</th>\n",
              "      <th>Latitude</th>\n",
              "      <th>Longitude</th>\n",
              "      <th>Location</th>\n",
              "    </tr>\n",
              "  </thead>\n",
              "  <tbody>\n",
              "    <tr>\n",
              "      <th>0</th>\n",
              "      <td>9997156</td>\n",
              "      <td>HY187464</td>\n",
              "      <td>03/16/2015 10:55:00 PM</td>\n",
              "      <td>037XX N BERNARD ST</td>\n",
              "      <td>0520</td>\n",
              "      <td>ASSAULT</td>\n",
              "      <td>AGGRAVATED:KNIFE/CUTTING INSTR</td>\n",
              "      <td>APARTMENT</td>\n",
              "      <td>False</td>\n",
              "      <td>True</td>\n",
              "      <td>1732</td>\n",
              "      <td>17.0</td>\n",
              "      <td>35.0</td>\n",
              "      <td>16.0</td>\n",
              "      <td>04A</td>\n",
              "      <td>1152724.0</td>\n",
              "      <td>1924681.0</td>\n",
              "      <td>2015</td>\n",
              "      <td>08/17/2015 03:03:40 PM</td>\n",
              "      <td>41.949183</td>\n",
              "      <td>-87.714011</td>\n",
              "      <td>(41.949183466, -87.714010731)</td>\n",
              "    </tr>\n",
              "    <tr>\n",
              "      <th>1</th>\n",
              "      <td>8503988</td>\n",
              "      <td>HV180396</td>\n",
              "      <td>03/02/2012 01:00:00 PM</td>\n",
              "      <td>096XX S MICHIGAN AVE</td>\n",
              "      <td>1811</td>\n",
              "      <td>NARCOTICS</td>\n",
              "      <td>POSS: CANNABIS 30GMS OR LESS</td>\n",
              "      <td>SCHOOL, PUBLIC, BUILDING</td>\n",
              "      <td>True</td>\n",
              "      <td>False</td>\n",
              "      <td>511</td>\n",
              "      <td>5.0</td>\n",
              "      <td>6.0</td>\n",
              "      <td>49.0</td>\n",
              "      <td>18</td>\n",
              "      <td>1178850.0</td>\n",
              "      <td>1841009.0</td>\n",
              "      <td>2012</td>\n",
              "      <td>02/04/2016 06:33:39 AM</td>\n",
              "      <td>41.719023</td>\n",
              "      <td>-87.620529</td>\n",
              "      <td>(41.71902307, -87.620528559)</td>\n",
              "    </tr>\n",
              "    <tr>\n",
              "      <th>2</th>\n",
              "      <td>10756290</td>\n",
              "      <td>HZ518998</td>\n",
              "      <td>11/17/2016 01:35:00 PM</td>\n",
              "      <td>030XX E 79TH ST</td>\n",
              "      <td>1365</td>\n",
              "      <td>CRIMINAL TRESPASS</td>\n",
              "      <td>TO RESIDENCE</td>\n",
              "      <td>RESIDENCE</td>\n",
              "      <td>True</td>\n",
              "      <td>False</td>\n",
              "      <td>422</td>\n",
              "      <td>4.0</td>\n",
              "      <td>7.0</td>\n",
              "      <td>46.0</td>\n",
              "      <td>26</td>\n",
              "      <td>1197746.0</td>\n",
              "      <td>1853168.0</td>\n",
              "      <td>2016</td>\n",
              "      <td>11/24/2016 03:48:31 PM</td>\n",
              "      <td>41.751938</td>\n",
              "      <td>-87.550915</td>\n",
              "      <td>(41.75193817, -87.550915052)</td>\n",
              "    </tr>\n",
              "  </tbody>\n",
              "</table>\n",
              "</div>"
            ],
            "text/plain": [
              "         ID Case Number  ...  Longitude                       Location\n",
              "0   9997156    HY187464  ... -87.714011  (41.949183466, -87.714010731)\n",
              "1   8503988    HV180396  ... -87.620529   (41.71902307, -87.620528559)\n",
              "2  10756290    HZ518998  ... -87.550915   (41.75193817, -87.550915052)\n",
              "\n",
              "[3 rows x 22 columns]"
            ]
          },
          "metadata": {
            "tags": []
          },
          "execution_count": 3
        }
      ]
    },
    {
      "cell_type": "markdown",
      "metadata": {
        "id": "EKhJYrqk5eDs",
        "colab_type": "text"
      },
      "source": [
        "## Data Cleaning"
      ]
    },
    {
      "cell_type": "markdown",
      "metadata": {
        "id": "BjzmuXxa6H_f",
        "colab_type": "text"
      },
      "source": [
        "Let us clean the data for faster training time and better prediction.\n",
        "- Dropping rows with nan value\n",
        "- removing the duplicates"
      ]
    },
    {
      "cell_type": "code",
      "metadata": {
        "id": "Y5diGECjxkO7",
        "colab_type": "code",
        "outputId": "6be09103-5bb2-43a5-9e0c-c2ee5c279334",
        "colab": {
          "base_uri": "https://localhost:8080/",
          "height": 102
        }
      },
      "source": [
        "#Dropping rows with nan values\n",
        "print('Training Dataset shape before :', train_dataset.shape)\n",
        "train_dataset.dropna(inplace=True)\n",
        "print('Training Dataset shape after dropping rows with nan value :', train_dataset.shape)\n",
        "\n",
        "print('-'*10)\n",
        "\n",
        "#Dropping rows with nan values\n",
        "print('Validation Dataset shape before :', val_dataset.shape)\n",
        "val_dataset.dropna(inplace=True)\n",
        "print('Validation Dataset shape after dropping rows with nan value :', val_dataset.shape)"
      ],
      "execution_count": 4,
      "outputs": [
        {
          "output_type": "stream",
          "text": [
            "Training Dataset shape before : (874027, 22)\n",
            "Training Dataset shape after dropping rows with nan value : (851053, 22)\n",
            "----------\n",
            "Validation Dataset shape before : (291343, 22)\n",
            "Validation Dataset shape after dropping rows with nan value : (283720, 22)\n"
          ],
          "name": "stdout"
        }
      ]
    },
    {
      "cell_type": "markdown",
      "metadata": {
        "id": "Jxi6Y8rztN1Z",
        "colab_type": "text"
      },
      "source": [
        "## Feature Selection\n",
        "To predict the Location of crime, we don't need many of the features from above data. Let us discuss why we are keeping some features and removing others.\n",
        "\n",
        "INCLUDING:\n",
        "\n",
        "- Beat, District, ward, community area are included because they relate to the location of the crime.\n",
        "- FBI code is a redundant feature as it is directly related to IUCR and Description of the crime.\n",
        "- Date does play a role in location of crime because there is a probability that in certain month there is a high risk of crime in certain areas. \n",
        "  \n",
        "  \n",
        "NOT INCLUDING:\n",
        "  \n",
        " - ID and Case Number don't play any role in the location of the crime.\n",
        " -  IUCR is directly linked to the primary type and description. None of them relate to the location of the crime. So we will leave them.\n",
        " - Location description are not specific to any location, so they can be skipped.\n",
        " - Arrest and Domestic are also not included.\n",
        "\n",
        "OUTPUT :\n",
        "-  Latitude and Longitude would be the ouputs of our neural net."
      ]
    },
    {
      "cell_type": "code",
      "metadata": {
        "id": "tJDR0T7zX7Nb",
        "colab_type": "code",
        "colab": {}
      },
      "source": [
        "train_data = train_dataset[['Date','Beat','District','Ward','Community Area']]\n",
        "train_labels = train_dataset[['Latitude','Longitude']]"
      ],
      "execution_count": 0,
      "outputs": []
    },
    {
      "cell_type": "code",
      "metadata": {
        "id": "xzr9oSxi3xbt",
        "colab_type": "code",
        "outputId": "147a5827-cf45-49d9-facd-9b92913580e8",
        "colab": {
          "base_uri": "https://localhost:8080/",
          "height": 142
        }
      },
      "source": [
        "train_data.head(3)"
      ],
      "execution_count": 6,
      "outputs": [
        {
          "output_type": "execute_result",
          "data": {
            "text/html": [
              "<div>\n",
              "<style scoped>\n",
              "    .dataframe tbody tr th:only-of-type {\n",
              "        vertical-align: middle;\n",
              "    }\n",
              "\n",
              "    .dataframe tbody tr th {\n",
              "        vertical-align: top;\n",
              "    }\n",
              "\n",
              "    .dataframe thead th {\n",
              "        text-align: right;\n",
              "    }\n",
              "</style>\n",
              "<table border=\"1\" class=\"dataframe\">\n",
              "  <thead>\n",
              "    <tr style=\"text-align: right;\">\n",
              "      <th></th>\n",
              "      <th>Date</th>\n",
              "      <th>Beat</th>\n",
              "      <th>District</th>\n",
              "      <th>Ward</th>\n",
              "      <th>Community Area</th>\n",
              "    </tr>\n",
              "  </thead>\n",
              "  <tbody>\n",
              "    <tr>\n",
              "      <th>0</th>\n",
              "      <td>03/16/2015 10:55:00 PM</td>\n",
              "      <td>1732</td>\n",
              "      <td>17.0</td>\n",
              "      <td>35.0</td>\n",
              "      <td>16.0</td>\n",
              "    </tr>\n",
              "    <tr>\n",
              "      <th>1</th>\n",
              "      <td>03/02/2012 01:00:00 PM</td>\n",
              "      <td>511</td>\n",
              "      <td>5.0</td>\n",
              "      <td>6.0</td>\n",
              "      <td>49.0</td>\n",
              "    </tr>\n",
              "    <tr>\n",
              "      <th>2</th>\n",
              "      <td>11/17/2016 01:35:00 PM</td>\n",
              "      <td>422</td>\n",
              "      <td>4.0</td>\n",
              "      <td>7.0</td>\n",
              "      <td>46.0</td>\n",
              "    </tr>\n",
              "  </tbody>\n",
              "</table>\n",
              "</div>"
            ],
            "text/plain": [
              "                     Date  Beat  District  Ward  Community Area\n",
              "0  03/16/2015 10:55:00 PM  1732      17.0  35.0            16.0\n",
              "1  03/02/2012 01:00:00 PM   511       5.0   6.0            49.0\n",
              "2  11/17/2016 01:35:00 PM   422       4.0   7.0            46.0"
            ]
          },
          "metadata": {
            "tags": []
          },
          "execution_count": 6
        }
      ]
    },
    {
      "cell_type": "code",
      "metadata": {
        "id": "QQnsUYpZ344k",
        "colab_type": "code",
        "outputId": "62d86579-6e13-4466-a965-ba4b0d808f0d",
        "colab": {
          "base_uri": "https://localhost:8080/",
          "height": 142
        }
      },
      "source": [
        "train_labels.head(3)"
      ],
      "execution_count": 7,
      "outputs": [
        {
          "output_type": "execute_result",
          "data": {
            "text/html": [
              "<div>\n",
              "<style scoped>\n",
              "    .dataframe tbody tr th:only-of-type {\n",
              "        vertical-align: middle;\n",
              "    }\n",
              "\n",
              "    .dataframe tbody tr th {\n",
              "        vertical-align: top;\n",
              "    }\n",
              "\n",
              "    .dataframe thead th {\n",
              "        text-align: right;\n",
              "    }\n",
              "</style>\n",
              "<table border=\"1\" class=\"dataframe\">\n",
              "  <thead>\n",
              "    <tr style=\"text-align: right;\">\n",
              "      <th></th>\n",
              "      <th>Latitude</th>\n",
              "      <th>Longitude</th>\n",
              "    </tr>\n",
              "  </thead>\n",
              "  <tbody>\n",
              "    <tr>\n",
              "      <th>0</th>\n",
              "      <td>41.949183</td>\n",
              "      <td>-87.714011</td>\n",
              "    </tr>\n",
              "    <tr>\n",
              "      <th>1</th>\n",
              "      <td>41.719023</td>\n",
              "      <td>-87.620529</td>\n",
              "    </tr>\n",
              "    <tr>\n",
              "      <th>2</th>\n",
              "      <td>41.751938</td>\n",
              "      <td>-87.550915</td>\n",
              "    </tr>\n",
              "  </tbody>\n",
              "</table>\n",
              "</div>"
            ],
            "text/plain": [
              "    Latitude  Longitude\n",
              "0  41.949183 -87.714011\n",
              "1  41.719023 -87.620529\n",
              "2  41.751938 -87.550915"
            ]
          },
          "metadata": {
            "tags": []
          },
          "execution_count": 7
        }
      ]
    },
    {
      "cell_type": "markdown",
      "metadata": {
        "id": "-WTAZOtqYtai",
        "colab_type": "text"
      },
      "source": [
        "## Data Preprocessing\n",
        "\n",
        "Now the RAW DATA that we have can't be directly given to the neural network as input. First we need to convert all of them into either INTEGERS or FLOAT. So that it is understood by our neural network,"
      ]
    },
    {
      "cell_type": "markdown",
      "metadata": {
        "id": "eHN-SpaLba-h",
        "colab_type": "text"
      },
      "source": [
        "First, we will Convert the datatype of Date column to timestamp, to extract required information.\n",
        "Then we will convert the Date and Time to integers, by extracting features such as Year, Month, Day and hour, and store them in  numpy arrays."
      ]
    },
    {
      "cell_type": "code",
      "metadata": {
        "colab_type": "code",
        "id": "dtdmkuxQ6kGg",
        "colab": {}
      },
      "source": [
        "def process_date(data):\n",
        "    '''\n",
        "        Parameters:\n",
        "        \n",
        "        data: A dataframe containing column 'Date'\n",
        "        \n",
        "        Returns:\n",
        "        \n",
        "        pro_data : Dataframe with columns same as 'data', but\n",
        "                         the 'Date' columns is split into 'year','month','day','hour','minute'\n",
        "    '''\n",
        "    #converting String date to pandas.timeStamps.Timestamp\n",
        "    data.Date = pd.to_datetime(data.Date, format='%m/%d/%Y %I:%M:%S %p')\n",
        "    #initialising arrays\n",
        "    date_data = np.zeros((data.shape[0],2))\n",
        "    #time_data = np.zeros((data.shape[0],1))\n",
        "\n",
        "    for i,date_time in enumerate(data['Date']):\n",
        "        date_data[i] = [date_time.year, date_time.month]\n",
        "    \n",
        "    #date_time_array = np.hstack((date_data, time_data))\n",
        "    \n",
        "    #dropping the Date column\n",
        "    data.drop(['Date'], inplace=True,axis=1)\n",
        "    #converting data to ndarray\n",
        "    data = data.values\n",
        "    #merging two arrays\n",
        "    pro_data = np.hstack((data, date_data))\n",
        "    \n",
        "    return pro_data\n",
        "    \n",
        "\n",
        "columns = ['Beat','District','Ward','Community Area','year','month']\n",
        "#processing the Date column of training data\n",
        "processed_train_data = pd.DataFrame(process_date(train_data), columns=columns)"
      ],
      "execution_count": 0,
      "outputs": []
    },
    {
      "cell_type": "markdown",
      "metadata": {
        "id": "rPfsv1RrjQmb",
        "colab_type": "text"
      },
      "source": [
        "Let's have a look at the processed data."
      ]
    },
    {
      "cell_type": "code",
      "metadata": {
        "id": "KMc8SpMOX1Bx",
        "colab_type": "code",
        "outputId": "4abd8b5f-b83e-4d70-f343-3f19a9c00c40",
        "colab": {
          "base_uri": "https://localhost:8080/",
          "height": 142
        }
      },
      "source": [
        "processed_train_data.head(3)"
      ],
      "execution_count": 9,
      "outputs": [
        {
          "output_type": "execute_result",
          "data": {
            "text/html": [
              "<div>\n",
              "<style scoped>\n",
              "    .dataframe tbody tr th:only-of-type {\n",
              "        vertical-align: middle;\n",
              "    }\n",
              "\n",
              "    .dataframe tbody tr th {\n",
              "        vertical-align: top;\n",
              "    }\n",
              "\n",
              "    .dataframe thead th {\n",
              "        text-align: right;\n",
              "    }\n",
              "</style>\n",
              "<table border=\"1\" class=\"dataframe\">\n",
              "  <thead>\n",
              "    <tr style=\"text-align: right;\">\n",
              "      <th></th>\n",
              "      <th>Beat</th>\n",
              "      <th>District</th>\n",
              "      <th>Ward</th>\n",
              "      <th>Community Area</th>\n",
              "      <th>year</th>\n",
              "      <th>month</th>\n",
              "    </tr>\n",
              "  </thead>\n",
              "  <tbody>\n",
              "    <tr>\n",
              "      <th>0</th>\n",
              "      <td>1732.0</td>\n",
              "      <td>17.0</td>\n",
              "      <td>35.0</td>\n",
              "      <td>16.0</td>\n",
              "      <td>2015.0</td>\n",
              "      <td>3.0</td>\n",
              "    </tr>\n",
              "    <tr>\n",
              "      <th>1</th>\n",
              "      <td>511.0</td>\n",
              "      <td>5.0</td>\n",
              "      <td>6.0</td>\n",
              "      <td>49.0</td>\n",
              "      <td>2012.0</td>\n",
              "      <td>3.0</td>\n",
              "    </tr>\n",
              "    <tr>\n",
              "      <th>2</th>\n",
              "      <td>422.0</td>\n",
              "      <td>4.0</td>\n",
              "      <td>7.0</td>\n",
              "      <td>46.0</td>\n",
              "      <td>2016.0</td>\n",
              "      <td>11.0</td>\n",
              "    </tr>\n",
              "  </tbody>\n",
              "</table>\n",
              "</div>"
            ],
            "text/plain": [
              "     Beat  District  Ward  Community Area    year  month\n",
              "0  1732.0      17.0  35.0            16.0  2015.0    3.0\n",
              "1   511.0       5.0   6.0            49.0  2012.0    3.0\n",
              "2   422.0       4.0   7.0            46.0  2016.0   11.0"
            ]
          },
          "metadata": {
            "tags": []
          },
          "execution_count": 9
        }
      ]
    },
    {
      "cell_type": "markdown",
      "metadata": {
        "id": "FPXP-3DVEK3t",
        "colab_type": "text"
      },
      "source": [
        "### Data Preprocessing of Validation dataset"
      ]
    },
    {
      "cell_type": "code",
      "metadata": {
        "id": "KBob2HPuEQdV",
        "colab_type": "code",
        "colab": {}
      },
      "source": [
        "#feature selection of validation datset\n",
        "val_data = val_dataset[['Date','Beat','District','Ward','Community Area']]\n",
        "val_labels = val_dataset[['Latitude','Longitude']]\n",
        "\n",
        "columns = ['Beat','District','Ward','Community Area','year','month']\n",
        "#processing the Date column of validation data\n",
        "processed_val_data = pd.DataFrame(process_date(val_data), columns=columns)"
      ],
      "execution_count": 0,
      "outputs": []
    },
    {
      "cell_type": "markdown",
      "metadata": {
        "id": "PmYfxo0j-CIG",
        "colab_type": "text"
      },
      "source": [
        "Let's print the stats of train data and validation data and make sure all columns are integers or floats."
      ]
    },
    {
      "cell_type": "code",
      "metadata": {
        "id": "xoWbv2P8Ok77",
        "colab_type": "code",
        "colab": {
          "base_uri": "https://localhost:8080/",
          "height": 442
        },
        "outputId": "f20f8899-2d85-4fd1-e089-756b0e4310e8"
      },
      "source": [
        "#print a summary of the train_data to know about different datatypes\n",
        "print('TRAIN DATA INFO \\n')\n",
        "print(processed_train_data.info(memory_usage=False))\n",
        "print('-'*50)\n",
        "print('VALIDATION DATA INFO \\n')\n",
        "print(processed_val_data.info(memory_usage=False))"
      ],
      "execution_count": 11,
      "outputs": [
        {
          "output_type": "stream",
          "text": [
            "TRAIN DATA INFO \n",
            "\n",
            "<class 'pandas.core.frame.DataFrame'>\n",
            "RangeIndex: 851053 entries, 0 to 851052\n",
            "Data columns (total 6 columns):\n",
            "Beat              851053 non-null float64\n",
            "District          851053 non-null float64\n",
            "Ward              851053 non-null float64\n",
            "Community Area    851053 non-null float64\n",
            "year              851053 non-null float64\n",
            "month             851053 non-null float64\n",
            "dtypes: float64(6)None\n",
            "--------------------------------------------------\n",
            "VALIDATION DATA INFO \n",
            "\n",
            "<class 'pandas.core.frame.DataFrame'>\n",
            "RangeIndex: 283720 entries, 0 to 283719\n",
            "Data columns (total 6 columns):\n",
            "Beat              283720 non-null float64\n",
            "District          283720 non-null float64\n",
            "Ward              283720 non-null float64\n",
            "Community Area    283720 non-null float64\n",
            "year              283720 non-null float64\n",
            "month             283720 non-null float64\n",
            "dtypes: float64(6)None\n"
          ],
          "name": "stdout"
        }
      ]
    },
    {
      "cell_type": "markdown",
      "metadata": {
        "id": "6d37fG7ndWpz",
        "colab_type": "text"
      },
      "source": [
        "## Feature Scaling"
      ]
    },
    {
      "cell_type": "markdown",
      "metadata": {
        "id": "_7N4CM6annHp",
        "colab_type": "text"
      },
      "source": [
        "Now we will do feature scaling of the data, so that one feature does not dominate the input and other features.\n",
        "\n",
        "Also note that the mean and range values that we are using to scale our training data, must be used for validation and test datasets also. They must be same.\n",
        "Here is a [discussion on stackoverflow](https://stackoverflow.com/questions/43675665/when-scale-the-data-why-the-train-dataset-use-fit-and-transform-but-the-te) explaining this concept."
      ]
    },
    {
      "cell_type": "code",
      "metadata": {
        "id": "2F0fU8vhnmw1",
        "colab_type": "code",
        "outputId": "c33ff311-c4fc-4e4e-e584-b54b4043a187",
        "colab": {
          "base_uri": "https://localhost:8080/",
          "height": 34
        }
      },
      "source": [
        "Train_data = np.copy(processed_train_data.values)\n",
        "\n",
        "#mean and range of each column\n",
        "MEAN_TRAIN = np.mean(Train_data, axis=0)\n",
        "RANGE_TRAIN = np.max(Train_data, axis=0) \n",
        "\n",
        "Train_data -= MEAN_TRAIN\n",
        "Train_data /= RANGE_TRAIN\n",
        "\n",
        "#converting to numpy array\n",
        "Train_labels = np.copy(train_labels.values)\n",
        "\n",
        "#finding mean and range of data\n",
        "MEAN_TRAIN_LABELS = np.mean(Train_labels, axis=0)\n",
        "RANGE_TRAIN_LABELS = np.max(Train_labels, axis=0) - np.mean(Train_labels, axis=0)\n",
        "\n",
        "Train_labels -= MEAN_TRAIN_LABELS\n",
        "Train_labels /= RANGE_TRAIN_LABELS\n",
        "\n",
        "print('Input for neural network ready.')"
      ],
      "execution_count": 12,
      "outputs": [
        {
          "output_type": "stream",
          "text": [
            "Input for neural network ready.\n"
          ],
          "name": "stdout"
        }
      ]
    },
    {
      "cell_type": "code",
      "metadata": {
        "id": "wjembwmNcwbU",
        "colab_type": "code",
        "outputId": "e65af47f-8915-4e70-9f02-ff10b9a8d563",
        "colab": {
          "base_uri": "https://localhost:8080/",
          "height": 34
        }
      },
      "source": [
        "def scale(data, labels):\n",
        "    Data, Labels = np.copy(data.values), np.copy(labels.values)\n",
        "    #transofrming data\n",
        "    Data -= MEAN_TRAIN\n",
        "    Data /= RANGE_TRAIN\n",
        "    #transforming labels\n",
        "    Labels -= MEAN_TRAIN_LABELS\n",
        "    Labels /= RANGE_TRAIN_LABELS\n",
        "    return Data, Labels\n",
        "\n",
        "Val_data, Val_labels = scale(processed_val_data, val_labels)\n",
        "print('Validation data ready')"
      ],
      "execution_count": 13,
      "outputs": [
        {
          "output_type": "stream",
          "text": [
            "Validation data ready\n"
          ],
          "name": "stdout"
        }
      ]
    },
    {
      "cell_type": "markdown",
      "metadata": {
        "id": "dieXEUHjjthC",
        "colab_type": "text"
      },
      "source": [
        "Let's have a look at the scaled data."
      ]
    },
    {
      "cell_type": "code",
      "metadata": {
        "id": "mXE_1xIzjxnU",
        "colab_type": "code",
        "colab": {
          "base_uri": "https://localhost:8080/",
          "height": 136
        },
        "outputId": "6216d5a6-fd6d-417d-fe84-8c483902f3ff"
      },
      "source": [
        "print('SCALED TRAINING DATA')\n",
        "print(Train_data[:2])\n",
        "print('-'*50)\n",
        "print('SCALED TRAINING LABELS')\n",
        "print(Train_labels[:2])"
      ],
      "execution_count": 14,
      "outputs": [
        {
          "output_type": "stream",
          "text": [
            "SCALED TRAINING DATA\n",
            "[[ 0.22947402  0.18531134  0.24321787 -0.27876555  0.00056965 -0.2963137 ]\n",
            " [-0.25218278 -0.20178543 -0.33678213  0.14980588 -0.0009177  -0.2963137 ]]\n",
            "--------------------------------------------------\n",
            "SCALED TRAINING LABELS\n",
            "[[ 0.59445413 -0.28257847]\n",
            " [-0.6750342   0.35019208]]\n"
          ],
          "name": "stdout"
        }
      ]
    },
    {
      "cell_type": "markdown",
      "metadata": {
        "id": "CX1uO23zKsXf",
        "colab_type": "text"
      },
      "source": [
        "## Deciding the Neural Network Architecture\n",
        "\n",
        "So we will have a neural network with 3 layers, with 1 input layer, 1 hidden and 1 final output layer.\n",
        "\n",
        "And going with the accepted answer on this question on [stack overflow question](https://stats.stackexchange.com/questions/181/how-to-choose-the-number-of-hidden-layers-and-nodes-in-a-feedforward-neural-netw), the ***number of neurons in the hidden layer should be 350***."
      ]
    },
    {
      "cell_type": "code",
      "metadata": {
        "id": "8m-Yr6J01awN",
        "colab_type": "code",
        "colab": {}
      },
      "source": [
        "input_layer_size = 6\n",
        "hidden_layer_size = 4\n",
        "output_layer_size = 2"
      ],
      "execution_count": 0,
      "outputs": []
    },
    {
      "cell_type": "markdown",
      "metadata": {
        "id": "ZptlZg-6RpF9",
        "colab_type": "text"
      },
      "source": [
        "## Training our neural network model\n",
        "\n",
        "### Deciding the Regularisation Parameter using Cross Validation dataset \n",
        "\n",
        "We will train the network with different values of $\\Lambda$. Then test it's accuracy on the validation dataset, to decide the best value of $\\lambda$."
      ]
    },
    {
      "cell_type": "code",
      "metadata": {
        "id": "gDBEOV02Rm_D",
        "colab_type": "code",
        "colab": {
          "base_uri": "https://localhost:8080/",
          "height": 300
        },
        "outputId": "f3386754-869d-425d-fb5b-0e2c75df8ab0"
      },
      "source": [
        "#hyperparameters\n",
        "epochs = 25\n",
        "learning_rate = 0.9\n",
        "\n",
        "#values of lambda for training the model\n",
        "lambda_list = [1,5,20,50]\n",
        "\n",
        "#Initialising the arrays with all values = 0\n",
        "train_loss , val_loss, val_acc = [[0 for i in range(len(lambda_list)) for i in range(2)]]\n",
        "\n",
        "for i,crr_lambda in enumerate(lambda_list):\n",
        "    #directory where to save the weights of model\n",
        "    directory = \"/content/drive/My Drive/Spider Inductions/lambda_{}/iteration {}\".format(initial_iteration)\n",
        "    #Initialising the model\n",
        "    model = NNmodel.NeuralNetwork(input_layer_size, hidden_layer_size, output_layer_size, directory)\n",
        "    #Training the model with current value of lambda\n",
        "    train_loss[i] = model.train(Train_data, Train_labels, learning_rate, epochs, lambda_ = curr_lambda)    \n",
        "    #Getting the validation loss\n",
        "    _ , val_loss[i] = model.predict(Val_data, Val_labels)\n",
        "\n",
        "\n",
        "plt.xlabel('value of lambda')\n",
        "plt.ylabel('loss')\n",
        "plt.plot(lambda_list, train_loss, label='Training Loss', marker='x')\n",
        "plt.plot(lambda_list, val_loss, label='Validation Loss', marker='x')\n",
        "plt.legend()"
      ],
      "execution_count": 82,
      "outputs": [
        {
          "output_type": "execute_result",
          "data": {
            "text/plain": [
              "<matplotlib.legend.Legend at 0x7f48e73e7208>"
            ]
          },
          "metadata": {
            "tags": []
          },
          "execution_count": 82
        },
        {
          "output_type": "display_data",
          "data": {
            "image/png": "[encoded data removed]",
            "text/plain": [
              "<Figure size 432x288 with 1 Axes>"
            ]
          },
          "metadata": {
            "tags": []
          }
        }
      ]
    },
    {
      "cell_type": "markdown",
      "metadata": {
        "id": "WXJc2VHyQr1V",
        "colab_type": "text"
      },
      "source": [
        "#### Hence lambda = 5 is the one with lowest validation set error.\n",
        "\n",
        "With lamda = 5, we will train the model for more epochs and then test it on the test dataset."
      ]
    },
    {
      "cell_type": "code",
      "metadata": {
        "id": "L6MGfplGVcj7",
        "colab_type": "code",
        "colab": {
          "base_uri": "https://localhost:8080/",
          "height": 1139
        },
        "outputId": "6bee701f-da85-4e8c-8263-d4eb83dd8ec8"
      },
      "source": [
        "#directory where weights are to be saved\n",
        "saving_directory = \"/content/drive/My Drive/Spider Inductions/lambda_5\"\n",
        "\n",
        "#initialising the model\n",
        "model = NNmodel.NeuralNetwork(input_layer_size, hidden_layer_size, output_layer_size, saving_directory)\n",
        "\n",
        "#continue the training of model by loading weights from directory\n",
        "#lambda = 1 and continuing from iteration 25\n",
        "Weights_directory = \"/content/drive/My Drive/Spider Inductions/lambda_5/iteration 25\"\n",
        "\n",
        "#continue the train of model\n",
        "model.train(Train_data, Train_labels, learning_rate =0.8, epochs=50, initial_iteration=25, lambda_ =5, weights_directory = Weights_directory)"
      ],
      "execution_count": 24,
      "outputs": [
        {
          "output_type": "stream",
          "text": [
            "shape of training dataset (851053, 6)\n",
            "input layer size = 6\n",
            "hidden layer size = 4\n",
            "output layer size = 2\n",
            "Continued from iteration 25\n",
            "epoch 26 completed. loss = 0.4171997253716341\n",
            "epoch 27 completed. loss = 0.41352873272475194\n",
            "epoch 28 completed. loss = 0.4097700537754708\n",
            "epoch 29 completed. loss = 0.40592079267456654\n",
            "epoch 30 completed. loss = 0.4019841026015892\n",
            "All files saved successfully\n",
            "epoch 31 completed. loss = 0.3979663674734529\n",
            "epoch 32 completed. loss = 0.3938762136227644\n",
            "epoch 33 completed. loss = 0.3897237725136777\n",
            "epoch 34 completed. loss = 0.385520466475502\n",
            "epoch 35 completed. loss = 0.3812787077564564\n",
            "All files saved successfully\n",
            "epoch 36 completed. loss = 0.37701177477943915\n",
            "epoch 37 completed. loss = 0.3727335910377745\n",
            "epoch 38 completed. loss = 0.36845857293630924\n",
            "epoch 39 completed. loss = 0.3642014131509405\n",
            "epoch 40 completed. loss = 0.35997689570071467\n",
            "All files saved successfully\n",
            "epoch 41 completed. loss = 0.35579967705374427\n",
            "epoch 42 completed. loss = 0.35168408836654436\n",
            "epoch 43 completed. loss = 0.347643927512642\n",
            "epoch 44 completed. loss = 0.34369227286367054\n",
            "epoch 45 completed. loss = 0.3398413047025648\n",
            "All files saved successfully\n",
            "epoch 46 completed. loss = 0.33610215282902506\n",
            "epoch 47 completed. loss = 0.3324847641794674\n",
            "epoch 48 completed. loss = 0.32899780066854906\n",
            "epoch 49 completed. loss = 0.32564856397771363\n",
            "epoch 50 completed. loss = 0.3224429518669021\n",
            "All files saved successfully\n",
            "epoch 51 completed. loss = 0.31938544311601264\n",
            "epoch 52 completed. loss = 0.31647911175707233\n",
            "epoch 53 completed. loss = 0.31372566712077177\n",
            "epoch 54 completed. loss = 0.31112551778199865\n",
            "epoch 55 completed. loss = 0.3086778553060768\n",
            "All files saved successfully\n",
            "epoch 56 completed. loss = 0.30638075447143653\n",
            "epoch 57 completed. loss = 0.3042312856689696\n",
            "epoch 58 completed. loss = 0.3022256357350864\n",
            "epoch 59 completed. loss = 0.30035923325265473\n",
            "epoch 60 completed. loss = 0.2986268749058403\n",
            "All files saved successfully\n",
            "epoch 61 completed. loss = 0.29702284968751136\n",
            "epoch 62 completed. loss = 0.29554105833344185\n",
            "epoch 63 completed. loss = 0.2941751257733515\n",
            "epoch 64 completed. loss = 0.2929185049422757\n",
            "epoch 65 completed. loss = 0.2917645707506698\n",
            "All files saved successfully\n",
            "epoch 66 completed. loss = 0.29070670348697103\n",
            "epoch 67 completed. loss = 0.2897383613198198\n",
            "epoch 68 completed. loss = 0.2888531419261957\n",
            "epoch 69 completed. loss = 0.2880448335571543\n",
            "epoch 70 completed. loss = 0.287307456085247\n",
            "All files saved successfully\n",
            "epoch 71 completed. loss = 0.2866352927473074\n",
            "epoch 72 completed. loss = 0.286022913413581\n",
            "epoch 73 completed. loss = 0.28546519028410156\n",
            "epoch 74 completed. loss = 0.28495730694141724\n",
            "epoch 75 completed. loss = 0.2844947616843084\n",
            "All files saved successfully\n"
          ],
          "name": "stdout"
        },
        {
          "output_type": "execute_result",
          "data": {
            "text/plain": [
              "0.2844947616843084"
            ]
          },
          "metadata": {
            "tags": []
          },
          "execution_count": 24
        }
      ]
    },
    {
      "cell_type": "markdown",
      "metadata": {
        "id": "lZ_XHDi7iaWz",
        "colab_type": "text"
      },
      "source": [
        "## Testing the model"
      ]
    },
    {
      "cell_type": "markdown",
      "metadata": {
        "id": "-wJs9iSwu4uU",
        "colab_type": "text"
      },
      "source": [
        "### Accuracy on Cross Validation dataset"
      ]
    },
    {
      "cell_type": "code",
      "metadata": {
        "id": "O8H6bDJlu4Xz",
        "colab_type": "code",
        "colab": {}
      },
      "source": [
        "def predict_true_location(scaled_location):\n",
        "    '''\n",
        "       Parameter:\n",
        "       scaled_location : A pair of (scaled_latitiude, scaled_longitude)\n",
        "       \n",
        "       Returns:\n",
        "       Location : scaled_location is rescaled to it's True values\n",
        "                    By mulitplying with range_train_labels and adding mean_train_labels \n",
        "    '''\n",
        "    scaled_location *= RANGE_TRAIN_LABELS\n",
        "    scaled_location += MEAN_TRAIN_LABELS\n",
        "    \n",
        "    return scaled_location      #It becomes the true location now\n",
        "\n",
        "def accuracy(true_value, pred_value):\n",
        "    '''\n",
        "        determines the accuracy of predictions.\n",
        "        \n",
        "        Method followed:\n",
        "        1. calculate error between each true_value and pred_value\n",
        "        2. Take square of each error and then take their square root\n",
        "        3. Sum all the errors \n",
        "        4. calculate root_mean_squared_error = sum_error/total_samples \n",
        "        4. Accuracy = 1 - root_mean_squared_error\n",
        "    '''\n",
        "    total_samples = true_value.shape[0]\n",
        "    error = true_value - pred_value                 #calculating error\n",
        "    abs_error = np.abs(error)                       #absolute value is equal to sqrt(error**2)\n",
        "    sum_error = np.sum(np.sum(abs_error, axis=0))   #finding sum of all abs_error\n",
        "    rmse = sum_error/total_samples                  #calculating root mean squared error\n",
        "    #calculating accuracy\n",
        "    accuracy = 1 - rmse\n",
        "    \n",
        "    return accuracy"
      ],
      "execution_count": 0,
      "outputs": []
    },
    {
      "cell_type": "code",
      "metadata": {
        "id": "lTqbVErCxzm9",
        "colab_type": "code",
        "colab": {
          "base_uri": "https://localhost:8080/",
          "height": 34
        },
        "outputId": "10af5597-9686-4ff5-f125-9870695a77d5"
      },
      "source": [
        "val_prediction, val_loss = model.predict(Val_data, Val_labels)\n",
        "print('Validation loss is {:.4f}'.format(val_loss))"
      ],
      "execution_count": 57,
      "outputs": [
        {
          "output_type": "stream",
          "text": [
            "Validation loss is 0.2673\n"
          ],
          "name": "stdout"
        }
      ]
    },
    {
      "cell_type": "code",
      "metadata": {
        "id": "v1pFv8DuySlg",
        "colab_type": "code",
        "colab": {
          "base_uri": "https://localhost:8080/",
          "height": 34
        },
        "outputId": "09c195b3-da1b-4d8f-f413-766bc3be0415"
      },
      "source": [
        "scaled_prediction = predict_true_location(np.copy(val_prediction))   #rescaling the predictions to true scale\n",
        "scaled_labels = predict_true_location(np.copy(Val_labels))           #rescaling the labels to true scale\n",
        "\n",
        "#calculating validation accuracy\n",
        "val_acc = accuracy(scaled_labels, scaled_prediction)\n",
        "\n",
        "print('Accuracy on validation set is {:.4f}'.format(val_acc))"
      ],
      "execution_count": 60,
      "outputs": [
        {
          "output_type": "stream",
          "text": [
            "Accuracy on validation set is 0.9224\n"
          ],
          "name": "stdout"
        }
      ]
    },
    {
      "cell_type": "markdown",
      "metadata": {
        "id": "klmMI8HN0gsY",
        "colab_type": "text"
      },
      "source": [
        "#### Hence our accuracy on Cross Validation dataset is 92.24."
      ]
    },
    {
      "cell_type": "markdown",
      "metadata": {
        "id": "xNwBY44keYrC",
        "colab_type": "text"
      },
      "source": [
        "### Data cleaning, Feature Selection and Data Processing of Test Dataset\n",
        "\n",
        "We will load the Test dataset. Then clean it.\n",
        "We will do Data processing of Test Dataset, using the same MEAN and RANGE of Training dataset."
      ]
    },
    {
      "cell_type": "code",
      "metadata": {
        "id": "6XJupCPzeVJE",
        "colab_type": "code",
        "colab": {
          "base_uri": "https://localhost:8080/",
          "height": 306
        },
        "outputId": "4d92cb48-92a2-4bf9-fc8d-0af1313c99a8"
      },
      "source": [
        "directory = '/content/drive/My Drive/Inductions/Easy task'\n",
        "#loading the test dataset from drive\n",
        "test_dataset = pd.read_csv(f'{directory}/test.csv', error_bad_lines = False) \n",
        "\n",
        "#Dropping rows with nan values\n",
        "print('Test Dataset shape before :', val_dataset.shape)\n",
        "test_dataset.dropna(inplace=True)\n",
        "print('Test Dataset shape after dropping rows with nan value :', test_dataset.shape)\n",
        "\n",
        "#Feature selection\n",
        "test_data = train_dataset[['Date','Beat','District','Ward','Community Area']]\n",
        "test_labels = train_dataset[['Latitude','Longitude']]\n",
        "\n",
        "columns = ['Beat','District','Ward','Community Area','year','month']\n",
        "#processing the Date column of test data\n",
        "processed_test_data = pd.DataFrame(process_date(test_data), columns=columns)\n",
        "\n",
        "#let's print info of the test dataset\n",
        "print('-'*50)\n",
        "print('TEST DATASET INFO\\n')\n",
        "print(processed_test_data.info())"
      ],
      "execution_count": 64,
      "outputs": [
        {
          "output_type": "stream",
          "text": [
            "Test Dataset shape before : (283720, 22)\n",
            "Test Dataset shape after dropping rows with nan value : (283592, 22)\n",
            "--------------------------------------------------\n",
            "TEST DATASET INFO\n",
            "\n",
            "<class 'pandas.core.frame.DataFrame'>\n",
            "RangeIndex: 851053 entries, 0 to 851052\n",
            "Data columns (total 6 columns):\n",
            "Beat              851053 non-null float64\n",
            "District          851053 non-null float64\n",
            "Ward              851053 non-null float64\n",
            "Community Area    851053 non-null float64\n",
            "year              851053 non-null float64\n",
            "month             851053 non-null float64\n",
            "dtypes: float64(6)\n",
            "memory usage: 39.0 MB\n",
            "None\n"
          ],
          "name": "stdout"
        }
      ]
    },
    {
      "cell_type": "code",
      "metadata": {
        "id": "OveCzwkpgMze",
        "colab_type": "code",
        "colab": {
          "base_uri": "https://localhost:8080/",
          "height": 34
        },
        "outputId": "4d689348-737e-4046-a248-15f3a8b46239"
      },
      "source": [
        "#Feature Scaling and conversion to numpy array\n",
        "Test_data, Test_labels = scale(processed_test_data, test_labels)\n",
        "print('Test data ready')"
      ],
      "execution_count": 65,
      "outputs": [
        {
          "output_type": "stream",
          "text": [
            "Test data ready\n"
          ],
          "name": "stdout"
        }
      ]
    },
    {
      "cell_type": "code",
      "metadata": {
        "id": "9h1DI3oN1WF8",
        "colab_type": "code",
        "colab": {
          "base_uri": "https://localhost:8080/",
          "height": 34
        },
        "outputId": "6e9bf2f3-5d9c-432a-f484-8e5d12eadcee"
      },
      "source": [
        "test_prediction, test_loss = model.predict(Test_data, Test_labels)\n",
        "print('Loss on test dataset is {:.4f}'.format(test_loss))"
      ],
      "execution_count": 68,
      "outputs": [
        {
          "output_type": "stream",
          "text": [
            "Loss on test dataset is 0.2841\n"
          ],
          "name": "stdout"
        }
      ]
    },
    {
      "cell_type": "code",
      "metadata": {
        "id": "hnPv23-w1y3n",
        "colab_type": "code",
        "colab": {
          "base_uri": "https://localhost:8080/",
          "height": 34
        },
        "outputId": "d29a9ced-2c73-4fdf-9fc6-43ee64f2cffa"
      },
      "source": [
        "scaled_test_prediction = predict_true_location(np.copy(test_prediction))   #rescaling the predictions to true scale\n",
        "scaled_test_labels = predict_true_location(np.copy(Test_labels))           #rescaling the labels to true scale\n",
        "\n",
        "#calculating validation accuracy\n",
        "test_acc = accuracy(scaled_test_labels, scaled_test_prediction)\n",
        "\n",
        "print('Accuracy on test set is {:.4f}'.format(test_acc))"
      ],
      "execution_count": 69,
      "outputs": [
        {
          "output_type": "stream",
          "text": [
            "Accuracy on test set is 0.9223\n"
          ],
          "name": "stdout"
        }
      ]
    },
    {
      "cell_type": "markdown",
      "metadata": {
        "id": "bloMduEd2I71",
        "colab_type": "text"
      },
      "source": [
        "#### Hence we achieve an accuracy of 92.23 on Test dataset.\n",
        "\n",
        "Let's print 10 predictions from the test dataset and check it ourselves."
      ]
    },
    {
      "cell_type": "code",
      "metadata": {
        "id": "i4u0gXSDqxyf",
        "colab_type": "code",
        "colab": {
          "base_uri": "https://localhost:8080/",
          "height": 204
        },
        "outputId": "f4736a0c-3c77-4e1c-de3c-2b178f7b90c5"
      },
      "source": [
        "print('True location      |     Predicted Location')\n",
        "for i in range(10):\n",
        "    print(np.round(scaled_test_labels[i],2), '        ', np.round(scaled_test_prediction[i],2))"
      ],
      "execution_count": 73,
      "outputs": [
        {
          "output_type": "stream",
          "text": [
            "True location      |     Predicted Location\n",
            "[ 41.95 -87.71]          [ 41.91 -87.7 ]\n",
            "[ 41.72 -87.62]          [ 41.78 -87.64]\n",
            "[ 41.75 -87.55]          [ 41.78 -87.64]\n",
            "[ 41.95 -87.73]          [ 41.91 -87.7 ]\n",
            "[ 41.97 -87.67]          [ 41.95 -87.72]\n",
            "[ 41.75 -87.66]          [ 41.77 -87.64]\n",
            "[ 41.97 -87.78]          [ 41.91 -87.7 ]\n",
            "[ 41.8  -87.58]          [ 41.77 -87.64]\n",
            "[ 41.89 -87.63]          [ 41.93 -87.71]\n",
            "[ 41.89 -87.63]          [ 41.82 -87.66]\n"
          ],
          "name": "stdout"
        }
      ]
    }
  ]
}