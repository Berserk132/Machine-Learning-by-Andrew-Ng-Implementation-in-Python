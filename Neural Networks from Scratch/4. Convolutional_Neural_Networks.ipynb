{
  "nbformat": 4,
  "nbformat_minor": 0,
  "metadata": {
    "colab": {
      "name": "Convolutional Neural Networks.ipynb",
      "version": "0.3.2",
      "provenance": [],
      "collapsed_sections": []
    },
    "kernelspec": {
      "name": "python3",
      "display_name": "Python 3"
    },
    "accelerator": "GPU"
  },
  "cells": [
    {
      "cell_type": "markdown",
      "metadata": {
        "id": "bwIVfGaMCsMf",
        "colab_type": "text"
      },
      "source": [
        "## Convolutional Neural Networks\n",
        "\n",
        "\n",
        "### Why ConvNets?\n",
        "\n",
        "When we trained our a fully connected Dense Neural Network on the fashion MNIST dataset, we could not reach the mark of 90% accuracy, even after increasing the number of neurons. That was due to many reasons:\n",
        "  - Alot of space in the images did not distinguish it from the other images. For example, consider an image of the shoe, most of the area in the image above and below the shoe are just a waste of space. Our Neural Net doesn't learn anything significant from those empty spaces.\n",
        "  - The fashion accessories can be distinguished easily if our Neural Net is able to learn the most important features of each of the images. For eg. if the net learned that shoe laces belong to shoes and handles relate to bags. Then it would be very easy for the net to classify.\n",
        "  - For the above to happen it would be better if we extracted the features from the images and gave it to the Neural Net.\n",
        "  \n",
        "  For the above benefits we implement in our models what is called as Convolutional Layers and pooling layers. These layers apply filters on the images to extract the most important features of the image. The pooling layers reduce the size of the image by again extracting the most important features of the image.\n",
        "  "
      ]
    },
    {
      "cell_type": "markdown",
      "metadata": {
        "id": "zrrZBtXmFJ13",
        "colab_type": "text"
      },
      "source": [
        "### Why I am not implementing the Convolutional Neural Net from Scratch\n",
        "\n",
        "The ***forward propagation part of the convNets is easy and implementable from scratch***.\n",
        "\n",
        "But the ***backpropagation part of the ConvNets is quite INVOLVED and it's not a good idea to implement them from scratch***.\n",
        "\n",
        "So I will use ***Tensorflow*** , a deep learning framework to implement the convNet."
      ]
    },
    {
      "cell_type": "code",
      "metadata": {
        "id": "jXXc07MfFI9A",
        "colab_type": "code",
        "outputId": "8eb85fff-4a6b-4cd7-b035-a8337ce89760",
        "colab": {
          "base_uri": "https://localhost:8080/",
          "height": 34
        }
      },
      "source": [
        "import numpy as np\n",
        "import tensorflow as tf\n",
        "import matplotlib.pyplot as plt\n",
        "print(tf.__version__)"
      ],
      "execution_count": 9,
      "outputs": [
        {
          "output_type": "stream",
          "text": [
            "1.13.1\n"
          ],
          "name": "stdout"
        }
      ]
    },
    {
      "cell_type": "markdown",
      "metadata": {
        "id": "IlivJrJOGBFj",
        "colab_type": "text"
      },
      "source": [
        "### Importing dataset"
      ]
    },
    {
      "cell_type": "code",
      "metadata": {
        "id": "5CcPtGJxCqdz",
        "colab_type": "code",
        "outputId": "37cc7440-adb5-4c2f-e5f1-357c26bea147",
        "colab": {
          "base_uri": "https://localhost:8080/",
          "height": 34
        }
      },
      "source": [
        "mnist = tf.keras.datasets.fashion_mnist\n",
        "(X_train, Y_train),(X_test, Y_test) = mnist.load_data()\n",
        "print(X_train.shape,X_test.shape)"
      ],
      "execution_count": 10,
      "outputs": [
        {
          "output_type": "stream",
          "text": [
            "(60000, 28, 28) (10000, 28, 28)\n"
          ],
          "name": "stdout"
        }
      ]
    },
    {
      "cell_type": "markdown",
      "metadata": {
        "id": "Siu5brTkGvR7",
        "colab_type": "text"
      },
      "source": [
        "### Feature Scaling"
      ]
    },
    {
      "cell_type": "code",
      "metadata": {
        "id": "YlJBMOsIGuiO",
        "colab_type": "code",
        "colab": {}
      },
      "source": [
        "X_train = X_train/255\n",
        "X_test = X_test/255"
      ],
      "execution_count": 0,
      "outputs": []
    },
    {
      "cell_type": "markdown",
      "metadata": {
        "id": "_OykCQ-UGq9g",
        "colab_type": "text"
      },
      "source": [
        "### Training the model"
      ]
    },
    {
      "cell_type": "markdown",
      "metadata": {
        "id": "Ov0Gfn4rI4Kc",
        "colab_type": "text"
      },
      "source": [
        "Since we are dealing with only gray scale images, the number of colour channels we have is only 1. \n",
        "Hence we need to resahpe the X_train and X_test to reflect that."
      ]
    },
    {
      "cell_type": "code",
      "metadata": {
        "id": "iVa5U_tiIoq9",
        "colab_type": "code",
        "colab": {}
      },
      "source": [
        "X_train = X_train.reshape(60000, 28, 28, 1)\n",
        "X_test = X_test.reshape(10000, 28, 28, 1)"
      ],
      "execution_count": 0,
      "outputs": []
    },
    {
      "cell_type": "code",
      "metadata": {
        "id": "tNoDbt4dGqZI",
        "colab_type": "code",
        "colab": {}
      },
      "source": [
        "model = tf.keras.Sequential([\n",
        "tf.keras.layers.Conv2D(filters=64, kernel_size=(3,3), activation='relu', input_shape=(28,28,1)),\n",
        "tf.keras.layers.MaxPool2D(pool_size=(2,2)),\n",
        "tf.keras.layers.Conv2D(filters=64, kernel_size=(3,3), activation='relu'),\n",
        "tf.keras.layers.MaxPool2D(pool_size=(2,2)),\n",
        "tf.keras.layers.Flatten(),\n",
        "tf.keras.layers.Dense(units=128, activation='relu'),\n",
        "tf.keras.layers.Dense(units=10, activation='softmax')])"
      ],
      "execution_count": 0,
      "outputs": []
    },
    {
      "cell_type": "markdown",
      "metadata": {
        "id": "gf2HB3vkgY-x",
        "colab_type": "text"
      },
      "source": [
        "#### A very helpful function is model.summary()\n",
        "\n",
        "It gives all the information about the model"
      ]
    },
    {
      "cell_type": "code",
      "metadata": {
        "id": "BhSpWFWogk7f",
        "colab_type": "code",
        "outputId": "9ffaf28a-3794-4849-e48b-16b7a267cb73",
        "colab": {
          "base_uri": "https://localhost:8080/",
          "height": 382
        }
      },
      "source": [
        "model.summary()"
      ],
      "execution_count": 14,
      "outputs": [
        {
          "output_type": "stream",
          "text": [
            "_________________________________________________________________\n",
            "Layer (type)                 Output Shape              Param #   \n",
            "=================================================================\n",
            "conv2d_2 (Conv2D)            (None, 26, 26, 64)        640       \n",
            "_________________________________________________________________\n",
            "max_pooling2d_2 (MaxPooling2 (None, 13, 13, 64)        0         \n",
            "_________________________________________________________________\n",
            "conv2d_3 (Conv2D)            (None, 11, 11, 64)        36928     \n",
            "_________________________________________________________________\n",
            "max_pooling2d_3 (MaxPooling2 (None, 5, 5, 64)          0         \n",
            "_________________________________________________________________\n",
            "flatten_1 (Flatten)          (None, 1600)              0         \n",
            "_________________________________________________________________\n",
            "dense_2 (Dense)              (None, 128)               204928    \n",
            "_________________________________________________________________\n",
            "dense_3 (Dense)              (None, 10)                1290      \n",
            "=================================================================\n",
            "Total params: 243,786\n",
            "Trainable params: 243,786\n",
            "Non-trainable params: 0\n",
            "_________________________________________________________________\n"
          ],
          "name": "stdout"
        }
      ]
    },
    {
      "cell_type": "code",
      "metadata": {
        "id": "JmM5oA6ZgFA1",
        "colab_type": "code",
        "outputId": "0f2ff0b3-6efd-4856-ccc0-031705bc9494",
        "colab": {
          "base_uri": "https://localhost:8080/",
          "height": 208
        }
      },
      "source": [
        "model.compile(optimizer='adam', loss='sparse_categorical_crossentropy', metrics=['accuracy'])\n",
        "model.fit(X_train, Y_train, epochs=5)"
      ],
      "execution_count": 15,
      "outputs": [
        {
          "output_type": "stream",
          "text": [
            "Epoch 1/5\n",
            "60000/60000 [==============================] - 7s 120us/sample - loss: 0.4407 - acc: 0.8420\n",
            "Epoch 2/5\n",
            "60000/60000 [==============================] - 7s 116us/sample - loss: 0.2960 - acc: 0.8917\n",
            "Epoch 3/5\n",
            "60000/60000 [==============================] - 7s 116us/sample - loss: 0.2494 - acc: 0.9086\n",
            "Epoch 4/5\n",
            "60000/60000 [==============================] - 7s 117us/sample - loss: 0.2170 - acc: 0.9191\n",
            "Epoch 5/5\n",
            "60000/60000 [==============================] - 7s 116us/sample - loss: 0.1919 - acc: 0.9280\n"
          ],
          "name": "stdout"
        },
        {
          "output_type": "execute_result",
          "data": {
            "text/plain": [
              "<tensorflow.python.keras.callbacks.History at 0x7f63c034e208>"
            ]
          },
          "metadata": {
            "tags": []
          },
          "execution_count": 15
        }
      ]
    },
    {
      "cell_type": "markdown",
      "metadata": {
        "id": "U2xB-cKji84O",
        "colab_type": "text"
      },
      "source": [
        "## Accuracy\n",
        "\n",
        "Hence we see that we achieve an accuracy of ***93%*** on the training dataset."
      ]
    },
    {
      "cell_type": "code",
      "metadata": {
        "id": "TJUEDP92iYcO",
        "colab_type": "code",
        "colab": {
          "base_uri": "https://localhost:8080/",
          "height": 34
        },
        "outputId": "b575fe62-2e95-441b-8e9a-aa6851d1a20b"
      },
      "source": [
        "test_loss, test_accuracy = model.evaluate(X_test, Y_test)"
      ],
      "execution_count": 16,
      "outputs": [
        {
          "output_type": "stream",
          "text": [
            "10000/10000 [==============================] - 1s 55us/sample - loss: 0.2659 - acc: 0.9050\n"
          ],
          "name": "stdout"
        }
      ]
    },
    {
      "cell_type": "code",
      "metadata": {
        "id": "Vi0Q0rn_jeoE",
        "colab_type": "code",
        "colab": {
          "base_uri": "https://localhost:8080/",
          "height": 34
        },
        "outputId": "1fee0532-8657-48d4-c9fa-0a0d0a190568"
      },
      "source": [
        "print(test_accuracy*100)"
      ],
      "execution_count": 17,
      "outputs": [
        {
          "output_type": "stream",
          "text": [
            "90.49999713897705\n"
          ],
          "name": "stdout"
        }
      ]
    },
    {
      "cell_type": "markdown",
      "metadata": {
        "id": "c6C1RxP-jktu",
        "colab_type": "text"
      },
      "source": [
        "Hence we easily approach a test accuracy of ***90.72%*** on the test dataset for just 5 epochs.\n",
        "\n",
        "Now let us find out the best number of epochs."
      ]
    },
    {
      "cell_type": "markdown",
      "metadata": {
        "id": "G9Q7ciGG4G6P",
        "colab_type": "text"
      },
      "source": [
        "## Epochs vs. Accuracy"
      ]
    },
    {
      "cell_type": "code",
      "metadata": {
        "id": "65NEqPp8jjXt",
        "colab_type": "code",
        "colab": {}
      },
      "source": [
        "def best_epoch(epochs):\n",
        "  \n",
        "  Train_acc = []\n",
        "  Train_loss = []\n",
        "  Test_acc = []\n",
        "  Test_loss = []\n",
        "  \n",
        "  for e in epochs:\n",
        "    model = tf.keras.Sequential([\n",
        "    tf.keras.layers.Conv2D(filters=64, kernel_size=(3,3), activation='relu', input_shape=(28,28,1)),\n",
        "    tf.keras.layers.MaxPool2D(pool_size=(2,2)),\n",
        "    tf.keras.layers.Conv2D(filters=64, kernel_size=(3,3), activation='relu'),\n",
        "    tf.keras.layers.MaxPool2D(pool_size=(2,2)),\n",
        "    tf.keras.layers.Flatten(),\n",
        "    tf.keras.layers.Dense(units=128, activation='relu'),\n",
        "    tf.keras.layers.Dense(units=10, activation='softmax')])\n",
        "    \n",
        "    model.compile(optimizer='adam', loss='sparse_categorical_crossentropy', metrics=['accuracy'])\n",
        "    \n",
        "    history = model.fit(X_train, Y_train, epochs=e)\n",
        "    test_loss, test_acc = model.evaluate(X_test, Y_test)\n",
        "    \n",
        "    Train_acc.append(history.history['acc'][e-1]*100)\n",
        "    Train_loss.append(history.history['loss'][e-1])\n",
        "    \n",
        "    Test_loss.append(test_loss)\n",
        "    Test_acc.append(test_acc*100)\n",
        "    \n",
        "  return Train_loss, Train_acc, Test_loss, Test_acc"
      ],
      "execution_count": 0,
      "outputs": []
    },
    {
      "cell_type": "code",
      "metadata": {
        "id": "m7VWkdP-nyXf",
        "colab_type": "code",
        "colab": {}
      },
      "source": [
        "epochs = [5,6,7,8,9,10,11,12]\n",
        "train_loss, train_acc, test_loss, test_acc = best_epoch(epochs)"
      ],
      "execution_count": 0,
      "outputs": []
    },
    {
      "cell_type": "code",
      "metadata": {
        "id": "ychux52WoE-V",
        "colab_type": "code",
        "colab": {
          "base_uri": "https://localhost:8080/",
          "height": 336
        },
        "outputId": "95e334af-5753-4896-af24-43ea86ed460c"
      },
      "source": [
        "fig, ax = plt.subplots(nrows=1,ncols=2)\n",
        "fig.set_figwidth(10)\n",
        "fig.set_figheight(5)\n",
        "\n",
        "ax[0].plot(epochs, train_loss, label='training loss')\n",
        "ax[0].plot(epochs, test_loss, label='test loss')\n",
        "ax[0].set_title('Loss vs. No. of epochs')\n",
        "ax[0].legend()\n",
        "ax[0].grid()\n",
        "\n",
        "ax[1].plot(epochs, train_acc, label='Training acc')\n",
        "ax[1].plot(epochs, test_acc, label='Test acc')\n",
        "ax[1].set_title('accuracy vs. No. of epochs')\n",
        "ax[1].legend()\n",
        "ax[1].grid()"
      ],
      "execution_count": 29,
      "outputs": [
        {
          "output_type": "display_data",
          "data": {
            "image/png": "[encoded data removed]",
            "text/plain": [
              "<Figure size 720x360 with 2 Axes>"
            ]
          },
          "metadata": {
            "tags": []
          }
        }
      ]
    },
    {
      "cell_type": "markdown",
      "metadata": {
        "id": "B4xlJev43XYM",
        "colab_type": "text"
      },
      "source": [
        "As the number of epoch increases, the model tends to overfit the dataset, so the training accuracy increases and test accuracy decreases.\n",
        "\n",
        "At epochs = 8, we have the highest test accuracy."
      ]
    },
    {
      "cell_type": "code",
      "metadata": {
        "id": "QA-JRAh_vDMQ",
        "colab_type": "code",
        "colab": {
          "base_uri": "https://localhost:8080/",
          "height": 34
        },
        "outputId": "7725f5b9-ad70-4647-c768-d005c2a4e5a5"
      },
      "source": [
        "acc = np.array(test_acc)\n",
        "max_acc_epoch = np.argmax(acc)\n",
        "print('Test accuracy is max at',max_acc_epoch+5,'epochs. It is',test_acc[max_acc_epoch])"
      ],
      "execution_count": 31,
      "outputs": [
        {
          "output_type": "stream",
          "text": [
            "Test accuracy is max at 8 epochs. It is 91.42000079154968\n"
          ],
          "name": "stdout"
        }
      ]
    },
    {
      "cell_type": "markdown",
      "metadata": {
        "id": "Kk7oCbDC4R-G",
        "colab_type": "text"
      },
      "source": [
        "Hence an accuracy of ***91.42%*** is achieved on the test dataset."
      ]
    },
    {
      "cell_type": "markdown",
      "metadata": {
        "id": "GLJgK6ggpiN6",
        "colab_type": "text"
      },
      "source": [
        "### Analyzing the convolutions\n",
        "\n",
        "Let's analyze what happens to the input image as it passes through the convolutional and pooling layers, to understand more about those layers and there operations."
      ]
    },
    {
      "cell_type": "code",
      "metadata": {
        "id": "m-ZgjaEkO3DO",
        "colab_type": "code",
        "colab": {
          "base_uri": "https://localhost:8080/",
          "height": 729
        },
        "outputId": "af7c46e7-03ad-4c35-ca2f-829357de03da"
      },
      "source": [
        "NO_OF_IMAGES = 5\n",
        "CONVOLUTION_NUMBER = 3\n",
        "IMAGE_INDEX = 9\n",
        "NO_OF_LAYERS = 4\n",
        "\n",
        "#extracting images from first 200 images of test dataset\n",
        "images = np.where(Y_test[:200]==IMAGE_INDEX)[0][:NO_OF_IMAGES]\n",
        "n = len(images)\n",
        "\n",
        "fig, axarr = plt.subplots(n, 5)\n",
        "fig.set_figheight(n*2)\n",
        "fig.set_figwidth(10)\n",
        "\n",
        "#constructing model\n",
        "layer_outputs = [layer.output for layer in model.layers]\n",
        "activation_model = tf.keras.models.Model(inputs = model.input, outputs = layer_outputs)\n",
        "\n",
        "for i in range(n):\n",
        "  \n",
        "  axarr[i,0].imshow(X_test[images[i]].reshape(28,28), cmap='inferno')\n",
        "  \n",
        "  #drawing the intermediate layers\n",
        "  for j in range(NO_OF_LAYERS):\n",
        "    f = activation_model.predict(X_test[images[i]].reshape(1, 28, 28, 1))[j]\n",
        "    axarr[i,j+1].imshow(f[0, : , :,CONVOLUTION_NUMBER], cmap='inferno')\n",
        "    axarr[i,j+1].grid(False)\n",
        "  \n",
        "  \n",
        "#headings\n",
        "layers = [\"Real Image\",\"Convolution 1\",\"MaxPooling 1\",\"Convolution 2\",\"MaxPooling 2\"]\n",
        "for i,layer in enumerate(layers):\n",
        "  axarr[0,i].set_title(layer)\n",
        "  \n",
        "fig.tight_layout()"
      ],
      "execution_count": 41,
      "outputs": [
        {
          "output_type": "display_data",
          "data": {
            "image/png": "[encoded data removed]",
            "text/plain": [
              "<Figure size 720x720 with 25 Axes>"
            ]
          },
          "metadata": {
            "tags": []
          }
        }
      ]
    },
    {
      "cell_type": "markdown",
      "metadata": {
        "id": "lpENFf7RO2Tc",
        "colab_type": "text"
      },
      "source": [
        "So, this is how the ConvNet processes the images and feeds it into the Dense Neural Net to learn features.\n",
        "\n",
        "- Note how the dimension of images decrease as it is processed by every layer. It decreases from 28 to 26 to 13 to 11 and to  5.\n",
        "\n",
        "- These are the images for the ***KERNEL/FILTER = 3*** of every layer.*** We observe that the front portion of the Ankle boot gets highlighted in the above filters.***\n",
        "\n",
        "- You can learn more about these layers by changing the CONVOLUTION_NUMBER above to see the features learned by a different KERNEL/FILTER.\n",
        "\n",
        "- You can also change the IMAGE_INDEX to see how other fashion items are processed by the ConvNet. Here is a cheat sheet for other index and fashion item in the fashion-mnist datset.\n",
        "\n",
        "    -  0 T-shirt/top\n",
        "    - 1 Trouser\n",
        "    -  2 Pullover\n",
        "    -  3 Dress\n",
        "    - 4 Coat\n",
        "    -  5 Sandal\n",
        "    -  6 Shirt\n",
        "    -  7 Sneaker\n",
        "    -  8 Bag\n",
        "    -  9 Ankle boot\n",
        "\n",
        "\n",
        "Play along with it."
      ]
    }
  ]
}