{
  "nbformat": 4,
  "nbformat_minor": 0,
  "metadata": {
    "colab": {
      "name": "Multiclass Classification-one vs. all.ipynb",
      "version": "0.3.2",
      "provenance": []
    },
    "language_info": {
      "codemirror_mode": {
        "name": "ipython",
        "version": 3
      },
      "file_extension": ".py",
      "mimetype": "text/x-python",
      "name": "python",
      "nbconvert_exporter": "python",
      "pygments_lexer": "ipython3",
      "version": "3.6.4"
    },
    "kernelspec": {
      "display_name": "Python 3",
      "language": "python",
      "name": "python3"
    }
  },
  "cells": [
    {
      "metadata": {
        "id": "b3ahQlWjJXCA",
        "colab_type": "text"
      },
      "cell_type": "markdown",
      "source": [
        "# Multiclass Classification: One vs All\n",
        "### A study of Iris dataset"
      ]
    },
    {
      "metadata": {
        "id": "yrGsM0i_JXCF",
        "colab_type": "text"
      },
      "cell_type": "markdown",
      "source": [
        "When we need to do classification where our result can be of different Discrete types.\n",
        "That is y can take ***Multiple Discrete values***, and not only two values 0 and 1, as before. \n",
        "\n",
        "In this case we can use Logistic Regression to classify the data by using the ***one vs all approach***."
      ]
    },
    {
      "metadata": {
        "id": "v-_YJd-JJXCI",
        "colab_type": "code",
        "colab": {}
      },
      "cell_type": "code",
      "source": [
        "import numpy as np\n",
        "import pandas as pd\n",
        "import matplotlib.pyplot as plt\n",
        "import math"
      ],
      "execution_count": 0,
      "outputs": []
    },
    {
      "metadata": {
        "id": "qr0A62frJXCS",
        "colab_type": "text"
      },
      "cell_type": "markdown",
      "source": [
        "We are going to use the Iris dataset which is quite a famous dataset. And we will classify the iris flowers into their three species ***Setosa, Versicolour and Virginica*** based on their ***petal and sepal, length and width***."
      ]
    },
    {
      "metadata": {
        "id": "RwUdUHQRJXCU",
        "colab_type": "code",
        "colab": {
          "base_uri": "https://localhost:8080/",
          "height": 53
        },
        "outputId": "86ff6694-8ef4-41b5-a771-410df189eee4"
      },
      "cell_type": "code",
      "source": [
        "from sklearn.datasets import load_iris\n",
        "iris = load_iris()\n",
        "data = iris.data\n",
        "print(type(data))\n",
        "print(iris.feature_names,'are the feature names of the iris dataset')"
      ],
      "execution_count": 2,
      "outputs": [
        {
          "output_type": "stream",
          "text": [
            "<class 'numpy.ndarray'>\n",
            "['sepal length (cm)', 'sepal width (cm)', 'petal length (cm)', 'petal width (cm)'] are the feature names of the iris dataset\n"
          ],
          "name": "stdout"
        }
      ]
    },
    {
      "metadata": {
        "id": "FibmkyM8JXCe",
        "colab_type": "code",
        "colab": {
          "base_uri": "https://localhost:8080/",
          "height": 235
        },
        "outputId": "bd0e18ea-86cf-4408-c5c1-68595d7f262d"
      },
      "cell_type": "code",
      "source": [
        "data = pd.DataFrame(data, columns=['s_l','s_w','p_l','p_w']) \n",
        "print(data.head(5))\n",
        "print(data.tail(5))"
      ],
      "execution_count": 3,
      "outputs": [
        {
          "output_type": "stream",
          "text": [
            "   s_l  s_w  p_l  p_w\n",
            "0  5.1  3.5  1.4  0.2\n",
            "1  4.9  3.0  1.4  0.2\n",
            "2  4.7  3.2  1.3  0.2\n",
            "3  4.6  3.1  1.5  0.2\n",
            "4  5.0  3.6  1.4  0.2\n",
            "     s_l  s_w  p_l  p_w\n",
            "145  6.7  3.0  5.2  2.3\n",
            "146  6.3  2.5  5.0  1.9\n",
            "147  6.5  3.0  5.2  2.0\n",
            "148  6.2  3.4  5.4  2.3\n",
            "149  5.9  3.0  5.1  1.8\n"
          ],
          "name": "stdout"
        }
      ]
    },
    {
      "metadata": {
        "id": "8e4A821iJXCm",
        "colab_type": "text"
      },
      "cell_type": "markdown",
      "source": [
        "Now these above are the features which classify an iris flower into three species. Now we will load the iris.target in vector Y, which will have basically three values repeatedely, each corresponding to a species:\n",
        "    \n",
        "    y = 0 --> Setosa\n",
        "    y = 1 --> Versicolour\n",
        "    y = 2 --> Virginica"
      ]
    },
    {
      "metadata": {
        "id": "eeq67lhRJXCn",
        "colab_type": "code",
        "colab": {
          "base_uri": "https://localhost:8080/",
          "height": 235
        },
        "outputId": "5b4ab397-ed3e-41a5-cb3a-261e60a01416"
      },
      "cell_type": "code",
      "source": [
        "Y = pd.Series(iris.target)\n",
        "print(Y.head(5))\n",
        "print(Y.tail(5))"
      ],
      "execution_count": 4,
      "outputs": [
        {
          "output_type": "stream",
          "text": [
            "0    0\n",
            "1    0\n",
            "2    0\n",
            "3    0\n",
            "4    0\n",
            "dtype: int64\n",
            "145    2\n",
            "146    2\n",
            "147    2\n",
            "148    2\n",
            "149    2\n",
            "dtype: int64\n"
          ],
          "name": "stdout"
        }
      ]
    },
    {
      "metadata": {
        "id": "ytefYcDVJXCu",
        "colab_type": "text"
      },
      "cell_type": "markdown",
      "source": [
        "In one vs all technique, we run the logistic regression taking one feature and considering rest of the features as another feature, which reduces it to a binary feature Logistic Regression.\n",
        "\n",
        "So let's do it for Setosa vs. rest first."
      ]
    },
    {
      "metadata": {
        "id": "xFmQYH9eJXCv",
        "colab_type": "code",
        "colab": {}
      },
      "cell_type": "code",
      "source": [
        "def Gradient_Descent(x, y, l_t, itr):\n",
        "    #assuming x is (m,n) shaped and y is (m,) or (m,1) shaped\n",
        "    m = x.shape[0]\n",
        "    y = y.reshape(m,1)\n",
        "    x = np.concatenate((np.ones((m,1)),x), axis=1)\n",
        "    print(x[0:5,:])\n",
        "    n = x.shape[1]\n",
        "    theta = np.random.random(size=(1,n))*0.0001\n",
        "    \n",
        "    cost_func = []\n",
        "    def cal_cost_func(h_xi):\n",
        "        sum = np.sum( y*np.log(h_xi) + (1-y)*np.log(1-h_xi))\n",
        "        return -sum/m\n",
        "    \n",
        "    for i in range(itr):\n",
        "        h_xi = (1/(1 + np.exp(-np.dot(x,np.transpose(theta)))))\n",
        "        cost_func.append(cal_cost_func(h_xi))\n",
        "        theta = theta - (l_t/m) * np.dot(np.transpose(h_xi- y) , x)\n",
        "    \n",
        "    return theta,cost_func"
      ],
      "execution_count": 0,
      "outputs": []
    },
    {
      "metadata": {
        "id": "SWFPvzjBJXC3",
        "colab_type": "code",
        "colab": {
          "base_uri": "https://localhost:8080/",
          "height": 199
        },
        "outputId": "705abb94-0074-4e01-9bd0-58d0a12d269e"
      },
      "cell_type": "code",
      "source": [
        "x = data.values\n",
        "y1 = np.vstack((np.zeros((50,1)), np.ones((100,1))))\n",
        "print( y1[:5,:], y1[145:150,:], sep='\\n')"
      ],
      "execution_count": 16,
      "outputs": [
        {
          "output_type": "stream",
          "text": [
            "[[0.]\n",
            " [0.]\n",
            " [0.]\n",
            " [0.]\n",
            " [0.]]\n",
            "[[1.]\n",
            " [1.]\n",
            " [1.]\n",
            " [1.]\n",
            " [1.]]\n"
          ],
          "name": "stdout"
        }
      ]
    },
    {
      "metadata": {
        "id": "3PSpSYi1JXDA",
        "colab_type": "text"
      },
      "cell_type": "markdown",
      "source": [
        "So in array y, indices 0 to 49, have value=0, indicating setosa. And indices 50 to 149 have  value=1, indicating the rest. ***Setosa as y=0 and rest as y1***."
      ]
    },
    {
      "metadata": {
        "id": "4RNDbr6LJXDC",
        "colab_type": "code",
        "colab": {
          "base_uri": "https://localhost:8080/",
          "height": 396
        },
        "outputId": "a766f614-b744-4f1e-b028-9cce630356ed"
      },
      "cell_type": "code",
      "source": [
        "itr = 1000\n",
        "theta1, cost_func1 = Gradient_Descent(x, y1, 0.1, itr)\n",
        "print(theta1)\n",
        "plt.plot(np.arange(itr),cost_func1)"
      ],
      "execution_count": 17,
      "outputs": [
        {
          "output_type": "stream",
          "text": [
            "[[1.  5.1 3.5 1.4 0.2]\n",
            " [1.  4.9 3.  1.4 0.2]\n",
            " [1.  4.7 3.2 1.3 0.2]\n",
            " [1.  4.6 3.1 1.5 0.2]\n",
            " [1.  5.  3.6 1.4 0.2]]\n",
            "[[-0.3367892  -0.52894995 -1.81264813  2.83189864  1.28137508]]\n"
          ],
          "name": "stdout"
        },
        {
          "output_type": "execute_result",
          "data": {
            "text/plain": [
              "[<matplotlib.lines.Line2D at 0x7f6fd3d16b38>]"
            ]
          },
          "metadata": {
            "tags": []
          },
          "execution_count": 17
        },
        {
          "output_type": "display_data",
          "data": {
            "image/png": "[encoded data removed]",
            "text/plain": [
              "<Figure size 432x288 with 1 Axes>"
            ]
          },
          "metadata": {
            "tags": []
          }
        }
      ]
    },
    {
      "metadata": {
        "id": "_XtdrvFaJXDO",
        "colab_type": "code",
        "colab": {
          "base_uri": "https://localhost:8080/",
          "height": 290
        },
        "outputId": "66de8348-fcd8-4e60-f118-fb30771e52a1"
      },
      "cell_type": "code",
      "source": [
        "y2 = np.vstack((np.ones((50,1)), np.zeros((50,1)), np.ones((50,1)) ))\n",
        "print( y2[:5,:], y2[50:55,:], y2[100:105,:], sep='\\n')"
      ],
      "execution_count": 8,
      "outputs": [
        {
          "output_type": "stream",
          "text": [
            "[[1.]\n",
            " [1.]\n",
            " [1.]\n",
            " [1.]\n",
            " [1.]]\n",
            "[[0.]\n",
            " [0.]\n",
            " [0.]\n",
            " [0.]\n",
            " [0.]]\n",
            "[[1.]\n",
            " [1.]\n",
            " [1.]\n",
            " [1.]\n",
            " [1.]]\n"
          ],
          "name": "stdout"
        }
      ]
    },
    {
      "metadata": {
        "id": "jYLPcEZDJXDU",
        "colab_type": "text"
      },
      "cell_type": "markdown",
      "source": [
        "Hence we make an array y2 of size (150,1). The indices 0 to 49 have y = 1, 50 to 99 have y=0 and 100 to 149 have y=1. Thus giving  ***versicolour as y=0 and rest as y=1***."
      ]
    },
    {
      "metadata": {
        "id": "zVUmakVfJXDV",
        "colab_type": "code",
        "colab": {
          "base_uri": "https://localhost:8080/",
          "height": 396
        },
        "outputId": "4e54ccde-5367-4a8e-e524-9d7d017b80d2"
      },
      "cell_type": "code",
      "source": [
        "itr = 10000\n",
        "theta2, cost_func2 = Gradient_Descent(x, y2, 0.13, itr)\n",
        "print(theta2)\n",
        "plt.plot(np.arange(itr),cost_func2)"
      ],
      "execution_count": 37,
      "outputs": [
        {
          "output_type": "stream",
          "text": [
            "[[1.  5.1 3.5 1.4 0.2]\n",
            " [1.  4.9 3.  1.4 0.2]\n",
            " [1.  4.7 3.2 1.3 0.2]\n",
            " [1.  4.6 3.1 1.5 0.2]\n",
            " [1.  5.  3.6 1.4 0.2]]\n",
            "[[-5.69570267  0.03393107  2.55905182 -1.24178075  2.76210125]]\n"
          ],
          "name": "stdout"
        },
        {
          "output_type": "execute_result",
          "data": {
            "text/plain": [
              "[<matplotlib.lines.Line2D at 0x7f6fd391fb00>]"
            ]
          },
          "metadata": {
            "tags": []
          },
          "execution_count": 37
        },
        {
          "output_type": "display_data",
          "data": {
            "image/png": "[encoded data removed]",
            "text/plain": [
              "<Figure size 432x288 with 1 Axes>"
            ]
          },
          "metadata": {
            "tags": []
          }
        }
      ]
    },
    {
      "metadata": {
        "id": "qVXGtjFjJXDd",
        "colab_type": "code",
        "colab": {
          "base_uri": "https://localhost:8080/",
          "height": 199
        },
        "outputId": "3a6c0bdb-4817-4757-f249-a0b80b8b91d4"
      },
      "cell_type": "code",
      "source": [
        "y3 = np.vstack((np.ones((100,1)), np.zeros((50,1))))\n",
        "print( y3[:5,:], y3[100:105,:], sep='\\n')"
      ],
      "execution_count": 10,
      "outputs": [
        {
          "output_type": "stream",
          "text": [
            "[[1.]\n",
            " [1.]\n",
            " [1.]\n",
            " [1.]\n",
            " [1.]]\n",
            "[[0.]\n",
            " [0.]\n",
            " [0.]\n",
            " [0.]\n",
            " [0.]]\n"
          ],
          "name": "stdout"
        }
      ]
    },
    {
      "metadata": {
        "id": "wsH8J4f3JXDi",
        "colab_type": "text"
      },
      "cell_type": "markdown",
      "source": [
        "Now y3 has indices 0 to 99 as y=1 and 100 to 149 as y=0. Thus ***Virginica as y=0 and rest as y=1***."
      ]
    },
    {
      "metadata": {
        "id": "BCfEMisZJXDk",
        "colab_type": "code",
        "colab": {
          "base_uri": "https://localhost:8080/",
          "height": 396
        },
        "outputId": "5db985df-29a3-4067-cfa0-86f601287717"
      },
      "cell_type": "code",
      "source": [
        "itr = 8000\n",
        "theta3, cost_func3 = Gradient_Descent(x, y3, 0.15, itr)\n",
        "print(theta3)\n",
        "plt.plot(np.arange(itr),cost_func3)"
      ],
      "execution_count": 35,
      "outputs": [
        {
          "output_type": "stream",
          "text": [
            "[[1.  5.1 3.5 1.4 0.2]\n",
            " [1.  4.9 3.  1.4 0.2]\n",
            " [1.  4.7 3.2 1.3 0.2]\n",
            " [1.  4.6 3.1 1.5 0.2]\n",
            " [1.  5.  3.6 1.4 0.2]]\n",
            "[[ 4.74966124  3.91965661  4.17405587 -5.90363454 -7.33167576]]\n"
          ],
          "name": "stdout"
        },
        {
          "output_type": "execute_result",
          "data": {
            "text/plain": [
              "[<matplotlib.lines.Line2D at 0x7f6fd3b5fc88>]"
            ]
          },
          "metadata": {
            "tags": []
          },
          "execution_count": 35
        },
        {
          "output_type": "display_data",
          "data": {
            "image/png": "[encoded data removed]",
            "text/plain": [
              "<Figure size 432x288 with 1 Axes>"
            ]
          },
          "metadata": {
            "tags": []
          }
        }
      ]
    },
    {
      "metadata": {
        "id": "GlPY2i9fJXDq",
        "colab_type": "text"
      },
      "cell_type": "markdown",
      "source": [
        "Hence all the one vs. rest logistic regression are done now. Now we would define a func which will predict the species when given with a new data.\n",
        "\n",
        "Basically, we have $h^{i}_{(\\theta)}(x)$ where i=(0,1,2) corresponding to each of (setosa,versicolor,virginica). Now higher value of $h^{i}_{(\\theta)}(x)$ means higher probabiliity of new flower being of speices (i). \n",
        "\n",
        "And higher $h^{i}_{(\\theta)}(x)$ means higher  $\\theta_{0} + \\theta_{1} x_{1} + ...  \\theta_{n} x_{n}$, as $h^{i}_{(\\theta)}(x)$ is ***sigmoid function***.\n",
        "\n",
        "So we will compare $\\theta (x)$ and predict the species as the one which has highest value of $\\theta (x)$."
      ]
    },
    {
      "metadata": {
        "id": "aJ2gqzYjJXDs",
        "colab_type": "code",
        "colab": {
          "base_uri": "https://localhost:8080/",
          "height": 35
        },
        "outputId": "777a2f09-6cf4-419c-a1d3-756ec7d3e400"
      },
      "cell_type": "code",
      "source": [
        "def predict(f):\n",
        "    f = np.hstack((np.array([1]),f))  #adding f_0=1\n",
        "    f = f.reshape(5,1)\n",
        "    pred_val=[np.dot(theta1,f), np.dot(theta2,f), np.dot(theta3,f)]\n",
        "    return np.argmin(pred_val)  #returns the index of the maximum value in array\n",
        "\n",
        "flower = np.array([1,1,1,1])\n",
        "print(predict(flower))"
      ],
      "execution_count": 39,
      "outputs": [
        {
          "output_type": "stream",
          "text": [
            "1\n"
          ],
          "name": "stdout"
        }
      ]
    },
    {
      "metadata": {
        "id": "Qj4evdNwJXDz",
        "colab_type": "text"
      },
      "cell_type": "markdown",
      "source": [
        "Hence it is a Versicolour. Now let us measure the accuracy of our model using the metrics library of scikit learn. \n",
        "\n",
        "We will test the model by giving it the entire data which it trained on, and then compare it's prediction with the results we have, in form of array Y."
      ]
    },
    {
      "metadata": {
        "id": "e0xPRKonJXD0",
        "colab_type": "code",
        "colab": {
          "base_uri": "https://localhost:8080/",
          "height": 163
        },
        "outputId": "07288e05-b5de-4207-a65a-52d282bb9bb0"
      },
      "cell_type": "code",
      "source": [
        "from sklearn.metrics import accuracy_score\n",
        "y_pred = np.zeros((150))\n",
        "for i in range(150):\n",
        "    y_pred[i] = predict(x[i])\n",
        "\n",
        "print(accuracy_score(Y.values,y_pred))\n",
        "print(y_pred)"
      ],
      "execution_count": 38,
      "outputs": [
        {
          "output_type": "stream",
          "text": [
            "0.9733333333333334\n",
            "[0. 0. 0. 0. 0. 0. 0. 0. 0. 0. 0. 0. 0. 0. 0. 0. 0. 0. 0. 0. 0. 0. 0. 0.\n",
            " 0. 0. 0. 0. 0. 0. 0. 0. 0. 0. 0. 0. 0. 0. 0. 0. 0. 0. 0. 0. 0. 0. 0. 0.\n",
            " 0. 0. 1. 1. 1. 1. 1. 1. 1. 1. 1. 1. 1. 1. 1. 1. 1. 1. 1. 1. 1. 1. 2. 1.\n",
            " 1. 1. 1. 1. 1. 1. 1. 1. 1. 1. 1. 2. 1. 1. 1. 1. 1. 1. 1. 1. 1. 1. 1. 1.\n",
            " 1. 1. 1. 1. 2. 2. 2. 2. 2. 2. 2. 2. 2. 2. 2. 2. 2. 2. 2. 2. 2. 2. 2. 2.\n",
            " 2. 2. 2. 2. 2. 2. 2. 2. 2. 1. 2. 2. 2. 1. 2. 2. 2. 2. 2. 2. 2. 2. 2. 2.\n",
            " 2. 2. 2. 2. 2. 2.]\n"
          ],
          "name": "stdout"
        }
      ]
    },
    {
      "metadata": {
        "id": "JiC6AgSyMpeK",
        "colab_type": "text"
      },
      "cell_type": "markdown",
      "source": [
        "Hence the prediction of our model is a staggering ***97.33% ACCURATE***. It is very nice to see that."
      ]
    }
  ]
}