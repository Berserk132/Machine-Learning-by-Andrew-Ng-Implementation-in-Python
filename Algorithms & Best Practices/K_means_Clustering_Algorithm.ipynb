{
 "cells": [
  {
   "cell_type": "markdown",
   "metadata": {},
   "source": [
    "# K-means Clustering Algorithm\n",
    "\n",
    "\n",
    "In Unsupervised Learning the data is not labeled. Hence in order to learn from the data we need to organise the data into clusters. K-means Clustering Algorithm is an efficent algorithm to do this."
   ]
  },
  {
   "cell_type": "markdown",
   "metadata": {
    "colab_type": "text",
    "id": "eg7WxIgvRwIy"
   },
   "source": [
    "### Getting the Dataset\n",
    "First let us import the dataset from Kaggle."
   ]
  },
  {
   "cell_type": "code",
   "execution_count": 0,
   "metadata": {
    "colab": {},
    "colab_type": "code",
    "id": "pUIpZXWgOiEB"
   },
   "outputs": [],
   "source": [
    "!mkdir ~/.kaggle\n",
    "!cp /content/kaggle.json ~/.kaggle/kaggle.json"
   ]
  },
  {
   "cell_type": "code",
   "execution_count": 0,
   "metadata": {
    "colab": {},
    "colab_type": "code",
    "id": "EG45Iu6AQJgg"
   },
   "outputs": [],
   "source": [
    "!chmod 600 /root/.kaggle/kaggle.json"
   ]
  },
  {
   "cell_type": "code",
   "execution_count": 15,
   "metadata": {
    "colab": {
     "base_uri": "https://localhost:8080/",
     "height": 69
    },
    "colab_type": "code",
    "id": "M4BVcLEzQRV-",
    "outputId": "ef0012d1-894c-44dc-9add-692d8d945a94"
   },
   "outputs": [
    {
     "name": "stdout",
     "output_type": "stream",
     "text": [
      "Downloading customer-segmentation-tutorial-in-python.zip to /content\n",
      "\r",
      "  0% 0.00/1.51k [00:00<?, ?B/s]\n",
      "\r",
      "100% 1.51k/1.51k [00:00<00:00, 1.23MB/s]\n"
     ]
    }
   ],
   "source": [
    "!kaggle datasets download -d vjchoudhary7/customer-segmentation-tutorial-in-python"
   ]
  },
  {
   "cell_type": "code",
   "execution_count": 16,
   "metadata": {
    "colab": {
     "base_uri": "https://localhost:8080/",
     "height": 52
    },
    "colab_type": "code",
    "id": "6vXz371-QhWo",
    "outputId": "a7d9eb3c-7d48-4b57-cb78-11f1be689c4a"
   },
   "outputs": [
    {
     "name": "stdout",
     "output_type": "stream",
     "text": [
      "Archive:  customer-segmentation-tutorial-in-python.zip\n",
      "  inflating: Mall_Customers.csv      \n"
     ]
    }
   ],
   "source": [
    "!unzip *.zip"
   ]
  },
  {
   "cell_type": "markdown",
   "metadata": {
    "colab_type": "text",
    "id": "BtlcGqPOTqxE"
   },
   "source": [
    "Here is a [link](https://www.kaggle.com/vjchoudhary7/customer-segmentation-tutorial-in-python) to the explanation of this dataset."
   ]
  },
  {
   "cell_type": "code",
   "execution_count": 0,
   "metadata": {
    "colab": {},
    "colab_type": "code",
    "id": "oOuqGn1mQ18g"
   },
   "outputs": [],
   "source": [
    "import numpy as np\n",
    "import matplotlib.pyplot as plt\n",
    "import pandas as pd\n",
    "from sklearn.metrics.pairwise import pairwise_distances_argmin_min"
   ]
  },
  {
   "cell_type": "markdown",
   "metadata": {
    "colab_type": "text",
    "id": "71WyhTnXQ2Y4"
   },
   "source": [
    "### Exploring the Dataset\n",
    "Let's explore the dataset."
   ]
  },
  {
   "cell_type": "code",
   "execution_count": 18,
   "metadata": {
    "colab": {
     "base_uri": "https://localhost:8080/",
     "height": 206
    },
    "colab_type": "code",
    "id": "WNfjYPa_QnH7",
    "outputId": "b2a511da-d240-4f88-9255-bec158aeca47"
   },
   "outputs": [
    {
     "data": {
      "text/html": [
       "<div>\n",
       "<style scoped>\n",
       "    .dataframe tbody tr th:only-of-type {\n",
       "        vertical-align: middle;\n",
       "    }\n",
       "\n",
       "    .dataframe tbody tr th {\n",
       "        vertical-align: top;\n",
       "    }\n",
       "\n",
       "    .dataframe thead th {\n",
       "        text-align: right;\n",
       "    }\n",
       "</style>\n",
       "<table border=\"1\" class=\"dataframe\">\n",
       "  <thead>\n",
       "    <tr style=\"text-align: right;\">\n",
       "      <th></th>\n",
       "      <th>CustomerID</th>\n",
       "      <th>Gender</th>\n",
       "      <th>Age</th>\n",
       "      <th>Annual Income (k$)</th>\n",
       "      <th>Spending Score (1-100)</th>\n",
       "    </tr>\n",
       "  </thead>\n",
       "  <tbody>\n",
       "    <tr>\n",
       "      <th>0</th>\n",
       "      <td>1</td>\n",
       "      <td>Male</td>\n",
       "      <td>19</td>\n",
       "      <td>15</td>\n",
       "      <td>39</td>\n",
       "    </tr>\n",
       "    <tr>\n",
       "      <th>1</th>\n",
       "      <td>2</td>\n",
       "      <td>Male</td>\n",
       "      <td>21</td>\n",
       "      <td>15</td>\n",
       "      <td>81</td>\n",
       "    </tr>\n",
       "    <tr>\n",
       "      <th>2</th>\n",
       "      <td>3</td>\n",
       "      <td>Female</td>\n",
       "      <td>20</td>\n",
       "      <td>16</td>\n",
       "      <td>6</td>\n",
       "    </tr>\n",
       "    <tr>\n",
       "      <th>3</th>\n",
       "      <td>4</td>\n",
       "      <td>Female</td>\n",
       "      <td>23</td>\n",
       "      <td>16</td>\n",
       "      <td>77</td>\n",
       "    </tr>\n",
       "    <tr>\n",
       "      <th>4</th>\n",
       "      <td>5</td>\n",
       "      <td>Female</td>\n",
       "      <td>31</td>\n",
       "      <td>17</td>\n",
       "      <td>40</td>\n",
       "    </tr>\n",
       "  </tbody>\n",
       "</table>\n",
       "</div>"
      ],
      "text/plain": [
       "   CustomerID  Gender  Age  Annual Income (k$)  Spending Score (1-100)\n",
       "0           1    Male   19                  15                      39\n",
       "1           2    Male   21                  15                      81\n",
       "2           3  Female   20                  16                       6\n",
       "3           4  Female   23                  16                      77\n",
       "4           5  Female   31                  17                      40"
      ]
     },
     "execution_count": 18,
     "metadata": {
      "tags": []
     },
     "output_type": "execute_result"
    }
   ],
   "source": [
    "data = pd.read_csv('/content/Mall_Customers.csv')\n",
    "data.head()"
   ]
  },
  {
   "cell_type": "code",
   "execution_count": 97,
   "metadata": {
    "colab": {
     "base_uri": "https://localhost:8080/",
     "height": 300
    },
    "colab_type": "code",
    "id": "tQBwRKSnRWoC",
    "outputId": "d3768eb6-31f9-4a23-ec51-026cacea50a1"
   },
   "outputs": [
    {
     "data": {
      "text/plain": [
       "Text(0, 0.5, 'Annual Income (k$)')"
      ]
     },
     "execution_count": 97,
     "metadata": {
      "tags": []
     },
     "output_type": "execute_result"
    },
    {
     "data": {
      "image/png": "[encoded data removed]",
      "text/plain": [
       "<Figure size 432x288 with 1 Axes>"
      ]
     },
     "metadata": {
      "tags": []
     },
     "output_type": "display_data"
    }
   ],
   "source": [
    "plt.scatter(data['Spending Score (1-100)'], data['Annual Income (k$)'])\n",
    "plt.xlabel('Spending Score')\n",
    "plt.ylabel('Annual Income (k$)')"
   ]
  },
  {
   "cell_type": "markdown",
   "metadata": {
    "colab_type": "text",
    "id": "Hf0RarvtSMwu"
   },
   "source": [
    "We can observe that there are 5 clusters in the data. Now Let us use K-Means to predict those clusters. "
   ]
  },
  {
   "cell_type": "markdown",
   "metadata": {
    "colab_type": "text",
    "id": "WZDjghbfVLnx"
   },
   "source": [
    "### K-means Clustering Algorithm"
   ]
  },
  {
   "cell_type": "code",
   "execution_count": 0,
   "metadata": {
    "colab": {},
    "colab_type": "code",
    "id": "MFFYImOkSb9g"
   },
   "outputs": [],
   "source": [
    "def Random_Initialisation(X, K):\n",
    "  m = X.shape[0]\n",
    "  rand_indices = np.random.randint(low=0,high=m,size=K, dtype='int')\n",
    "  return X[rand_indices,:]"
   ]
  },
  {
   "cell_type": "code",
   "execution_count": 0,
   "metadata": {
    "colab": {},
    "colab_type": "code",
    "id": "UrdpSMuaftvY"
   },
   "outputs": [],
   "source": [
    "def K_means_Clustering(X, K, iterations):\n",
    "  \n",
    "  m = X.shape[0]\n",
    "  c = np.zeros(m)\n",
    "  u = Random_Initialisation(X, K)\n",
    "  \n",
    "  for i in range(iterations):\n",
    "    #centroid assignment\n",
    "    c = pairwise_distances_argmin_min(X, u)[0]\n",
    "    #move centroid\n",
    "    for i in range(K):\n",
    "      ind = np.array(np.where(c == i)).ravel()\n",
    "      x = X[ind,:]\n",
    "      u[i] = np.mean(x, axis=0)\n",
    "\n",
    "  return u,c"
   ]
  },
  {
   "cell_type": "code",
   "execution_count": 30,
   "metadata": {
    "colab": {
     "base_uri": "https://localhost:8080/",
     "height": 34
    },
    "colab_type": "code",
    "id": "GreYtJraTm0A",
    "outputId": "74fc7ea6-3469-4785-b719-bee306b277a5"
   },
   "outputs": [
    {
     "name": "stdout",
     "output_type": "stream",
     "text": [
      "(200, 2)\n"
     ]
    }
   ],
   "source": [
    "X_train = data[['Spending Score (1-100)','Annual Income (k$)']]\n",
    "print(X_train.shape)"
   ]
  },
  {
   "cell_type": "markdown",
   "metadata": {
    "colab_type": "text",
    "id": "IL3gceWYWDQ3"
   },
   "source": [
    "### Deciding the Number of Clusters\n",
    "Now in our dataset it is clear that there are 5 clusters. But there are situations that there can be ambuigity in deciding the number of clusters. In such situations we can use two methods.\n",
    "  \n",
    "  1.  Elbow method \n",
    "  2. Depending upon the purpose\n",
    " \n",
    "First let us do the elbow method."
   ]
  },
  {
   "cell_type": "code",
   "execution_count": 0,
   "metadata": {
    "colab": {},
    "colab_type": "code",
    "id": "_IdaUGS4W3sD"
   },
   "outputs": [],
   "source": [
    "def Elbow_method(X, range_, itr):\n",
    "  \n",
    "  m= X.shape[0]\n",
    "  cost = []\n",
    "  J = 0\n",
    "  for k in range_:\n",
    "    u, c = K_means_Clustering(X, k, itr)\n",
    "    for i in range(m):\n",
    "      J += np.sum((X[i] - u[c[i]])**2)\n",
    "    J = J/m\n",
    "    cost.append(J)\n",
    "    J = 0\n",
    "  \n",
    "  print(range_, cost)\n",
    "  plt.plot(range_, cost)"
   ]
  },
  {
   "cell_type": "code",
   "execution_count": 125,
   "metadata": {
    "colab": {
     "base_uri": "https://localhost:8080/",
     "height": 286
    },
    "colab_type": "code",
    "id": "FTn0fFeWY2GF",
    "outputId": "841ef023-f2c3-483d-8bba-b9e7e3ab4e6e"
   },
   "outputs": [
    {
     "name": "stdout",
     "output_type": "stream",
     "text": [
      "[1, 2, 3, 4, 5, 6, 7] [1350.26, 919.095, 532.315, 369.705, 223.245, 194.31, 178.385]\n"
     ]
    },
    {
     "data": {
      "image/png": "[encoded data removed]",
      "text/plain": [
       "<Figure size 432x288 with 1 Axes>"
      ]
     },
     "metadata": {
      "tags": []
     },
     "output_type": "display_data"
    }
   ],
   "source": [
    "range_ = [1,2,3,4,5,6,7]\n",
    "X = np.array(X_train.values)\n",
    "\n",
    "Elbow_method(X, range_, 100)"
   ]
  },
  {
   "cell_type": "markdown",
   "metadata": {
    "colab_type": "text",
    "id": "Dr3ND6aJa3-w"
   },
   "source": [
    "Henc the ***Elbow method gives us the correct value of K = 5***. \n",
    "\n",
    "Now the elbow method does well in cases where there is a no ambuigity in the number of clusters. But if there is a less separation between different clusters, then it is better to decide the number of clusters depending upon your purpose of doing the clustering.\n",
    "\n",
    "\n",
    "![Look at this image](https://docs.opencv.org/3.0-beta/_images/tshirt_grouped.jpg) \n",
    "\n",
    "Over here the number of clusters is ambiguos. So if we were a T-shirt company, depending upon our budget and our purpose, we would have decided K(no. of clusters) to be\n",
    "\n",
    "  - K = 3 if we make T-shirt of sizes Small, Medium and Large.\n",
    "  - K = 5 if we make Extra Small and Extra Large also."
   ]
  },
  {
   "cell_type": "markdown",
   "metadata": {
    "colab_type": "text",
    "id": "B8fRWvtIVTMH"
   },
   "source": [
    "### Clustered Data\n",
    "Now let us see the clusters decided by our k-means algorithm."
   ]
  },
  {
   "cell_type": "code",
   "execution_count": 104,
   "metadata": {
    "colab": {
     "base_uri": "https://localhost:8080/",
     "height": 104
    },
    "colab_type": "code",
    "id": "5TV52kuDdXCJ",
    "outputId": "2dbcd056-48d8-4a22-b5c6-7b0634be027e"
   },
   "outputs": [
    {
     "name": "stdout",
     "output_type": "stream",
     "text": [
      "[[79 25]\n",
      " [82 86]\n",
      " [17 88]\n",
      " [49 55]\n",
      " [20 25]]\n"
     ]
    }
   ],
   "source": [
    "itr = 100\n",
    "\n",
    "u,c = K_means_Clustering(X, 5, itr)\n",
    "print(u)"
   ]
  },
  {
   "cell_type": "code",
   "execution_count": 93,
   "metadata": {
    "colab": {
     "base_uri": "https://localhost:8080/",
     "height": 286
    },
    "colab_type": "code",
    "id": "vdOEF3dF-G-B",
    "outputId": "b4468cdb-afe1-496f-9445-5c56a1397cf4"
   },
   "outputs": [
    {
     "data": {
      "text/plain": [
       "<matplotlib.collections.PathCollection at 0x7f0330dcc4e0>"
      ]
     },
     "execution_count": 93,
     "metadata": {
      "tags": []
     },
     "output_type": "execute_result"
    },
    {
     "data": {
      "image/png": "[encoded data removed]",
      "text/plain": [
       "<Figure size 432x288 with 1 Axes>"
      ]
     },
     "metadata": {
      "tags": []
     },
     "output_type": "display_data"
    }
   ],
   "source": [
    "fig, ax = plt.subplots()\n",
    "\n",
    "colors = {0:'c', 1:'g', 2:'m', 3:'r', 4:'y'}\n",
    "\n",
    "for i in range(5):\n",
    "  cluster_1 = np.where(c==i)\n",
    "  ax.scatter(X[cluster_1,0],X[cluster_1,1],color=colors[i])\n",
    "\n",
    "ax.scatter(u[:,0],u[:,1], color='k', marker='X')"
   ]
  },
  {
   "cell_type": "markdown",
   "metadata": {
    "colab_type": "text",
    "id": "XJZB74TEBM0s"
   },
   "source": [
    "Hence our K-means algorithm performs well and clusters the given data into 5 clusters."
   ]
  }
 ],
 "metadata": {
  "accelerator": "GPU",
  "colab": {
   "collapsed_sections": [],
   "name": "K-means Clustering Algorithm.ipynb",
   "provenance": [],
   "version": "0.3.2"
  },
  "kernelspec": {
   "display_name": "Python 3",
   "language": "python",
   "name": "python3"
  },
  "language_info": {
   "codemirror_mode": {
    "name": "ipython",
    "version": 3
   },
   "file_extension": ".py",
   "mimetype": "text/x-python",
   "name": "python",
   "nbconvert_exporter": "python",
   "pygments_lexer": "ipython3",
   "version": "3.6.4"
  }
 },
 "nbformat": 4,
 "nbformat_minor": 1
}
