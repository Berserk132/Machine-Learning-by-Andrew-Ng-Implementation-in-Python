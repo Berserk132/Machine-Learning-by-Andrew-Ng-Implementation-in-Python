{
  "nbformat": 4,
  "nbformat_minor": 0,
  "metadata": {
    "colab": {
      "name": "Normal Equation.ipynb",
      "version": "0.3.2",
      "provenance": [],
      "toc_visible": true
    },
    "kernelspec": {
      "name": "python3",
      "display_name": "Python 3"
    }
  },
  "cells": [
    {
      "metadata": {
        "id": "HTAiPWknq19-",
        "colab_type": "text"
      },
      "cell_type": "markdown",
      "source": [
        "## Linear Regression - Normal Equation"
      ]
    },
    {
      "metadata": {
        "id": "dw4qnu25rFk4",
        "colab_type": "text"
      },
      "cell_type": "markdown",
      "source": [
        "Earlier we did linear regression by ***Gradient Descent*** method, and  came up with the theta vector which ***minimizes the cost function***.  Now there is a more simpler way of getting the theta vector in just one step using the ***Normal Equation***.\n",
        "\n",
        "   $\\theta$ = $(X^{T} X)^{-1} X^{T} y$"
      ]
    },
    {
      "metadata": {
        "id": "9LcCtPqDrCOQ",
        "colab_type": "code",
        "colab": {}
      },
      "cell_type": "code",
      "source": [
        "import numpy as np\n",
        "import matplotlib.pyplot as plt\n",
        "import pandas as pd"
      ],
      "execution_count": 0,
      "outputs": []
    },
    {
      "metadata": {
        "id": "VtViyVVT_KZn",
        "colab_type": "text"
      },
      "cell_type": "markdown",
      "source": [
        "We wil work with the housing price data. "
      ]
    },
    {
      "metadata": {
        "id": "oJ3vC1XgvA3E",
        "colab_type": "code",
        "colab": {
          "base_uri": "https://localhost:8080/",
          "height": 144
        },
        "outputId": "39fd9c05-079e-49f4-c587-e20821e3c7a2"
      },
      "cell_type": "code",
      "source": [
        "data = pd.read_csv('house_price_data1.csv', header=None, names=['size','no. of rooms','price'])\n",
        "print(data.head())\n",
        "print(data.shape)"
      ],
      "execution_count": 2,
      "outputs": [
        {
          "output_type": "stream",
          "text": [
            "   size  no. of rooms   price\n",
            "0  2104             3  399900\n",
            "1  1600             3  329900\n",
            "2  2400             3  369000\n",
            "3  1416             2  232000\n",
            "4  3000             4  539900\n",
            "(47, 3)\n"
          ],
          "name": "stdout"
        }
      ]
    },
    {
      "metadata": {
        "id": "1masuprF_Lme",
        "colab_type": "text"
      },
      "cell_type": "markdown",
      "source": [
        "Now let us write the function which will perform the matrix multiplications and provide us with the final matrix ***theta***."
      ]
    },
    {
      "metadata": {
        "id": "ttqHfb31v1OR",
        "colab_type": "code",
        "colab": {}
      },
      "cell_type": "code",
      "source": [
        "def Normal_Equation_get_theta(x, y):\n",
        "  m = x.shape[0]\n",
        "  x1 = np.ones((m,1))\n",
        "  x = np.hstack((x1,x))\n",
        "  y = y.reshape(m,1)\n",
        "  \n",
        "  inverse = np.linalg.inv(np.dot(np.transpose(x),x))\n",
        "  theta = np.dot( a = (np.dot(inverse,np.transpose(x))), b= y)\n",
        "  return theta"
      ],
      "execution_count": 0,
      "outputs": []
    },
    {
      "metadata": {
        "id": "5B-VXTqtz7TD",
        "colab_type": "code",
        "colab": {
          "base_uri": "https://localhost:8080/",
          "height": 72
        },
        "outputId": "4f224ef9-28ca-4f5a-c91a-3ef2fb90a4e2"
      },
      "cell_type": "code",
      "source": [
        "x = data[['size','no. of rooms']].values\n",
        "y = data['price'].values\n",
        "theta = Normal_Equation_get_theta(x,y)\n",
        "print(theta)"
      ],
      "execution_count": 19,
      "outputs": [
        {
          "output_type": "stream",
          "text": [
            "[[89597.9095428 ]\n",
            " [  139.21067402]\n",
            " [-8738.01911233]]\n"
          ],
          "name": "stdout"
        }
      ]
    },
    {
      "metadata": {
        "id": "k4EGo-G92Kqx",
        "colab_type": "code",
        "colab": {}
      },
      "cell_type": "code",
      "source": [
        "def predict_price(size, no_rooms):\n",
        "  x1 = np.array([1,size,no_rooms]).reshape(3,1)\n",
        "  price = np.dot(np.transpose(theta), x1)\n",
        "  return price[0,0]"
      ],
      "execution_count": 0,
      "outputs": []
    },
    {
      "metadata": {
        "id": "wLsfPmXv_WLa",
        "colab_type": "text"
      },
      "cell_type": "markdown",
      "source": [
        "Let us test our model."
      ]
    },
    {
      "metadata": {
        "id": "mWK7P0Kr25UM",
        "colab_type": "code",
        "colab": {
          "base_uri": "https://localhost:8080/",
          "height": 35
        },
        "outputId": "34db1ffc-52cd-4d40-cc02-d6aad0804837"
      },
      "cell_type": "code",
      "source": [
        "size = 1650\n",
        "no_rooms = 3\n",
        "print('For plot of size',size,'and no. of rooms',no_rooms,\n",
        "      ', predicted price is',predict_price(size,no_rooms))"
      ],
      "execution_count": 9,
      "outputs": [
        {
          "output_type": "stream",
          "text": [
            "For plot of size 1650 and no. of rooms 3 , predicted price is 293081.4643348959\n"
          ],
          "name": "stdout"
        }
      ]
    },
    {
      "metadata": {
        "id": "1bjAGTXpQdUV",
        "colab_type": "text"
      },
      "cell_type": "markdown",
      "source": [
        "Now let us test the accuracy of  our model. Note that as before we can't use ***sklearn.metircs.accuracy_score( .. )*** function here, because it is meant only for classification problems while this one is regression. Henc we will use the r2_score function instead."
      ]
    },
    {
      "metadata": {
        "id": "uqSsjmjlOuy0",
        "colab_type": "code",
        "colab": {
          "base_uri": "https://localhost:8080/",
          "height": 35
        },
        "outputId": "3e2b6122-b777-45df-9a35-e1bc942eb814"
      },
      "cell_type": "code",
      "source": [
        "from sklearn.metrics import r2_score\n",
        "\n",
        "y_pred = np.zeros(47)\n",
        "for i in range(47):\n",
        "  y_pred[i] = predict_price(x[i,0], x[i,1])\n",
        "\n",
        "print(r2_score(y,y_pred))"
      ],
      "execution_count": 25,
      "outputs": [
        {
          "output_type": "stream",
          "text": [
            "0.7329450180289141\n"
          ],
          "name": "stdout"
        }
      ]
    }
  ]
}