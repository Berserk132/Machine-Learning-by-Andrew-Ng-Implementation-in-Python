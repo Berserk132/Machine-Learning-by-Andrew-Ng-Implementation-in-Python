{
 "cells": [
  {
   "cell_type": "markdown",
   "metadata": {},
   "source": [
    "## Regularised Linear Regression and Regularised Logistic Regression"
   ]
  },
  {
   "cell_type": "markdown",
   "metadata": {},
   "source": [
    "When we have less training data our models can overfit the training data. In order to solve this problem of overfitting, we can perform regularisation on our parameters(theta matrix), to free our models from overfitting the training data, and thus generalising our model. "
   ]
  },
  {
   "cell_type": "code",
   "execution_count": 1,
   "metadata": {},
   "outputs": [],
   "source": [
    "import numpy as np\n",
    "import matplotlib.pyplot as plt\n",
    "import pandas as pd"
   ]
  },
  {
   "cell_type": "code",
   "execution_count": 2,
   "metadata": {},
   "outputs": [
    {
     "data": {
      "text/plain": [
       "<matplotlib.legend.Legend at 0x7fcd071fbb00>"
      ]
     },
     "execution_count": 2,
     "metadata": {},
     "output_type": "execute_result"
    },
    {
     "data": {
      "image/png": "[encoded data removed]",
      "text/plain": [
       "<matplotlib.figure.Figure at 0x7fcd09220828>"
      ]
     },
     "metadata": {},
     "output_type": "display_data"
    }
   ],
   "source": [
    "x = np.linspace(0,5,10).reshape(10,1)\n",
    "y = x**2\n",
    "temp = y.copy()\n",
    "for i in range(len(y)):\n",
    "    if i%2==0:\n",
    "        y[i] = y[i]-1\n",
    "    else:\n",
    "        y[i] = y[i]+1\n",
    "plt.scatter(x,y,color='r',label='y')\n",
    "plt.plot(x,temp,label='y = $x^{2}$')\n",
    "plt.legend()"
   ]
  },
  {
   "cell_type": "markdown",
   "metadata": {},
   "source": [
    "Above I have created a graph, where in I have made y to be slightly, different function than $y = x^{2}$. Now let us try to predict a model for it."
   ]
  },
  {
   "cell_type": "code",
   "execution_count": 29,
   "metadata": {},
   "outputs": [],
   "source": [
    "def Gradient_descent(x, y, lt, iterations):\n",
    "    #assuming x is (m,n) shaped and y is (m,) or (m,1) shaped\n",
    "    m = x.shape[0]\n",
    "    y = y.reshape(m,1)\n",
    "    n = x.shape[1]\n",
    "    theta = np.random.random(size=(1,n))*3\n",
    "\n",
    "    cost_func = []\n",
    "    for i in range(iterations):\n",
    "        h_xi = np.dot(x,np.transpose(theta))\n",
    "        theta = theta - (lt/m)*(np.dot(np.transpose(h_xi-y),x))\n",
    "        if i==1:\n",
    "            t = (h_xi-y)*x\n",
    "            print(t)\n",
    "            print(np.sum(t))\n",
    "            print(np.sum(t).shape)\n",
    "        #cost_func.append()\n",
    "\n",
    "    return theta"
   ]
  },
  {
   "cell_type": "code",
   "execution_count": 32,
   "metadata": {},
   "outputs": [
    {
     "name": "stdout",
     "output_type": "stream",
     "text": [
      "[[ 1.38113319e+00  0.00000000e+00 -1.38113319e+00]\n",
      " [ 1.31782021e-01  7.32122338e-02  1.72455484e-01]\n",
      " [ 6.26008318e-01  6.95564798e-01  1.46841457e-01]\n",
      " [-1.25968499e+00 -2.09947499e+00 -4.75880997e+00]\n",
      " [-1.40180083e+00 -3.11511297e+00 -5.52067242e+00]\n",
      " [-3.92383628e+00 -1.08995452e+01 -3.42003508e+01]\n",
      " [-4.70229427e+00 -1.56743142e+01 -4.75454198e+01]\n",
      " [-7.86067186e+00 -3.05692795e+01 -1.26741203e+02]\n",
      " [-9.27547199e+00 -4.12243199e+01 -1.73943728e+02]\n",
      " [-1.30701917e+01 -6.53509586e+01 -3.39824985e+02]]\n",
      "-941.1162615020489\n",
      "()\n",
      "[[1.23881638 0.26621587 0.85768319]]\n"
     ]
    },
    {
     "data": {
      "text/plain": [
       "<matplotlib.collections.PathCollection at 0x7fcd05504518>"
      ]
     },
     "execution_count": 32,
     "metadata": {},
     "output_type": "execute_result"
    },
    {
     "data": {
      "image/png": "[encoded data removed]",
      "text/plain": [
       "<matplotlib.figure.Figure at 0x7fcd0558fba8>"
      ]
     },
     "metadata": {},
     "output_type": "display_data"
    }
   ],
   "source": [
    "X = np.hstack((x,y))\n",
    "m = x.shape[0]\n",
    "X = np.concatenate((np.ones((m,1)),X), axis=1) \n",
    "\n",
    "th = Gradient_descent(X,y, 0.006, 500)\n",
    "print(th)\n",
    "plt.plot(x,np.dot(X,np.transpose(th)))\n",
    "plt.scatter(x,y)"
   ]
  },
  {
   "cell_type": "code",
   "execution_count": 22,
   "metadata": {},
   "outputs": [
    {
     "name": "stdout",
     "output_type": "stream",
     "text": [
      "[0 0 0]\n"
     ]
    }
   ],
   "source": [
    "leepa = np.array([1,2,3])\n",
    "keepa = np.array([1,2,3])\n",
    "print(leepa-keepa)"
   ]
  }
 ],
 "metadata": {
  "kernelspec": {
   "display_name": "Python 3",
   "language": "python",
   "name": "python3"
  },
  "language_info": {
   "codemirror_mode": {
    "name": "ipython",
    "version": 3
   },
   "file_extension": ".py",
   "mimetype": "text/x-python",
   "name": "python",
   "nbconvert_exporter": "python",
   "pygments_lexer": "ipython3",
   "version": "3.6.4"
  }
 },
 "nbformat": 4,
 "nbformat_minor": 2
}
