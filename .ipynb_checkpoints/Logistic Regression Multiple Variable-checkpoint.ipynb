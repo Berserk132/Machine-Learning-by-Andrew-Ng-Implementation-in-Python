{
 "cells": [
  {
   "cell_type": "markdown",
   "metadata": {},
   "source": [
    "# LOGISTIC REGRESSION \n",
    "### (Classification algorithm)\n",
    "#### Multiple Feature/Variable"
   ]
  },
  {
   "cell_type": "markdown",
   "metadata": {},
   "source": [
    "Logistic Regression is a classification algorithm and helps to classify data. It gives ***DISCRETE VALUES AS OUTPUT***. Don't confuse with the term regression in it's name. In ML regression means a function which gives continuos value as output. But this one, is a classification algorithm."
   ]
  },
  {
   "cell_type": "markdown",
   "metadata": {},
   "source": [
    "####  Hypothesis function:\n",
    "In logistic regression the hypothesis function is $h_{\\theta}(x)$ = $1/(1+$ $e^{-\\theta x}$ $)$.\n",
    "\n",
    "And it's values always lies between 0 and 1."
   ]
  },
  {
   "cell_type": "code",
   "execution_count": 41,
   "metadata": {},
   "outputs": [],
   "source": [
    "import numpy as np\n",
    "import pandas as pd\n",
    "import matplotlib.pyplot as plt\n",
    "import math"
   ]
  },
  {
   "cell_type": "markdown",
   "metadata": {},
   "source": [
    "Let's create some testing data."
   ]
  },
  {
   "cell_type": "code",
   "execution_count": 51,
   "metadata": {},
   "outputs": [
    {
     "name": "stdout",
     "output_type": "stream",
     "text": [
      "          X1        X2    Y\n",
      "0   0.912190  0.566761  0.0\n",
      "1   0.654643  0.447080  0.0\n",
      "2   1.413388  1.071412  0.0\n",
      "3   1.488451  1.343410  0.0\n",
      "4   0.297408  0.785011  0.0\n",
      "5   1.631624  1.848448  0.0\n",
      "6   1.776483  1.038394  0.0\n",
      "7   0.886552  1.891113  0.0\n",
      "8   1.960178  1.567957  0.0\n",
      "9   0.947597  0.092578  0.0\n",
      "10  3.132256  2.096577  1.0\n",
      "11  2.606715  3.513096  1.0\n",
      "12  2.242631  2.627902  1.0\n",
      "13  2.316241  3.502989  1.0\n",
      "14  2.135553  2.214851  1.0\n",
      "15  3.166587  3.964794  1.0\n",
      "16  3.127128  3.851593  1.0\n",
      "17  3.195305  2.991756  1.0\n",
      "18  3.195324  3.337298  1.0\n",
      "19  2.980463  3.105019  1.0\n"
     ]
    },
    {
     "data": {
      "image/png": "[encoded data removed]",
      "text/plain": [
       "<matplotlib.figure.Figure at 0x7fdc48b3f748>"
      ]
     },
     "metadata": {},
     "output_type": "display_data"
    }
   ],
   "source": [
    "x1 = np.random.random(size=(10))*2\n",
    "x2 = np.random.random(size=(10))*2\n",
    "\n",
    "x3 = np.random.random(size=(10))*2 + 2\n",
    "x4 = np.random.random(size=(10))*2 + 2\n",
    "\n",
    "y0 = np.zeros(shape=(10))\n",
    "y1 = np.ones(shape=(10))\n",
    "\n",
    "plt.scatter(x1,x2, color='g', marker='o')\n",
    "plt.scatter(x3,x4, color='r', marker='o')\n",
    "\n",
    "dict_data = { 'X1':np.concatenate((x1,x3)), \n",
    "             'X2':np.concatenate((x2,x4)),\n",
    "             'Y':np.concatenate((y0,y1))}\n",
    "data = pd.DataFrame(dict_data, index=np.arange(20).reshape(20))\n",
    "print(data)"
   ]
  },
  {
   "cell_type": "markdown",
   "metadata": {},
   "source": [
    "So we have classified the green dots as y=0, and the red dots as y=1.\n",
    "\n",
    "Now let us write an algorithm which will help us to classify new input using the prediction developed from the above training data."
   ]
  },
  {
   "cell_type": "code",
   "execution_count": 52,
   "metadata": {},
   "outputs": [],
   "source": [
    "def Gradient_Descent_Matrices_Magic(x, y, l_t, itr):\n",
    "    #assuming x is (m,n) shaped and y is (m,) or (m,1) shaped\n",
    "    m = x.shape[0]\n",
    "    y = y.reshape(m,1)\n",
    "    x = np.concatenate((np.ones((m,1)),x), axis=1) \n",
    "    n = x.shape[1]\n",
    "    theta = np.random.random(size=(1,n))*0.00001\n",
    "\n",
    "    cost_func = []\n",
    "    def cal_cost_func(h_xi):\n",
    "        sum = 0\n",
    "        for i in range(m):\n",
    "            sum += y[i]*math.log(h_xi[i]) + (1-y[i])*math.log(1-h_xi[i])\n",
    "        return -sum/m\n",
    "    \n",
    "    for i in range(itr):\n",
    "        h_xi = (1/(1 + np.exp(-np.dot(x,np.transpose(theta)))))\n",
    "        cost_func.append(cal_cost_func(h_xi))\n",
    "        theta = theta - (l_t/m) * np.dot(np.transpose(h_xi- y) , x)\n",
    "    \n",
    "    return theta,cost_func"
   ]
  },
  {
   "cell_type": "markdown",
   "metadata": {},
   "source": [
    "So plotting cost function vs. iterations to check the algorithm is heading in the right direction."
   ]
  },
  {
   "cell_type": "code",
   "execution_count": 97,
   "metadata": {},
   "outputs": [
    {
     "name": "stderr",
     "output_type": "stream",
     "text": [
      "/home/sachin/anaconda3/lib/python3.6/site-packages/ipykernel_launcher.py:4: FutureWarning: reshape is deprecated and will raise in a subsequent release. Please use .values.reshape(...) instead\n",
      "  after removing the cwd from sys.path.\n"
     ]
    },
    {
     "name": "stdout",
     "output_type": "stream",
     "text": [
      "[[-14.14909359   2.93235212   4.16134007]]\n"
     ]
    },
    {
     "data": {
      "text/plain": [
       "[<matplotlib.lines.Line2D at 0x7fdc481bcc18>]"
      ]
     },
     "execution_count": 97,
     "metadata": {},
     "output_type": "execute_result"
    },
    {
     "data": {
      "image/png": "[encoded data removed]",
      "text/plain": [
       "<matplotlib.figure.Figure at 0x7fdc481f7d68>"
      ]
     },
     "metadata": {},
     "output_type": "display_data"
    }
   ],
   "source": [
    "itr = 1000\n",
    "X = data[['X1','X2']]\n",
    "Y = data['Y']\n",
    "\n",
    "theta_result, cost_func = Gradient_Descent_Matrices_Magic(X,Y, 1.2, itr)\n",
    "print(theta_result)\n",
    "plt.plot(np.arange(itr), cost_func) "
   ]
  },
  {
   "cell_type": "markdown",
   "metadata": {},
   "source": [
    "So the Cost function decreases when the no. of iterations increases. Hence our gradient descent function is right. Now, Let us test the predictions of the model."
   ]
  },
  {
   "cell_type": "code",
   "execution_count": 98,
   "metadata": {},
   "outputs": [
    {
     "name": "stdout",
     "output_type": "stream",
     "text": [
      "(1, 3) shape of theta\n",
      "(3, 1) shape of testing vector\n",
      "0 is the prediction\n"
     ]
    }
   ],
   "source": [
    "def predict(x):\n",
    "    y_pred = np.sum(np.dot(theta_result,x_check))\n",
    "    if y_pred<0:\n",
    "        return 0\n",
    "    return 1\n",
    "\n",
    "print(theta_result.shape,'shape of theta')\n",
    "x_check = np.array([1,1,1]).reshape(3,1)\n",
    "print(x_check.shape,'shape of testing vector')\n",
    "\n",
    "print(predict(x_check),'is the prediction')"
   ]
  },
  {
   "cell_type": "markdown",
   "metadata": {},
   "source": [
    "So that was correct, as a value of x_0=1, x_1=1, x_2=1. Would lie in the green region, with y=0."
   ]
  },
  {
   "cell_type": "markdown",
   "metadata": {},
   "source": [
    "Now to plot the line which will classify the first quadrants in to two parts, basically y=0 and y=1 part.\n",
    "\n",
    "   $\\theta_{0} + \\theta_{1} x_{1} + \\theta_{2} x_{2} = 0$ \n",
    "        \n",
    " is the equation of the line. So to plot it in $x_{1}$ vs $x_{2}$ grpah, we can write \n",
    " \n",
    " $x_{2} = -(\\theta_{0} + \\theta_{1} x_{1})/\\theta_{2} $"
   ]
  },
  {
   "cell_type": "code",
   "execution_count": 113,
   "metadata": {},
   "outputs": [
    {
     "data": {
      "text/plain": [
       "<matplotlib.collections.PathCollection at 0x7fdc484a3588>"
      ]
     },
     "execution_count": 113,
     "metadata": {},
     "output_type": "execute_result"
    },
    {
     "data": {
      "image/png": "[encoded data removed]",
      "text/plain": [
       "<matplotlib.figure.Figure at 0x7fdc484a67f0>"
      ]
     },
     "metadata": {},
     "output_type": "display_data"
    }
   ],
   "source": [
    "#Taking the max and min point in x1\n",
    "x_value= np.array([np.min(X_f[:,1]),np.max(X_f[:,1])])\n",
    "y_value=-(theta_result[0,0] +theta_result[0,1]*x_value)/theta_result[0,2]\n",
    "\n",
    "plt.plot(x_value,y_value, color='m')\n",
    "plt.scatter(x1,x2, color='g', marker='o')\n",
    "plt.scatter(x3,x4, color='r', marker='o')"
   ]
  },
  {
   "cell_type": "markdown",
   "metadata": {},
   "source": [
    "So this line divides the first quadrant into two parts, any new ($x_{1}$,$x_{2}$) that is passed into this model, will be classified as y=0 (below the magneta line) or y=1 (above the magneta line), depending upon the position of the point i.e. there $x_{1}$ and $x_{2}$ value.\n",
    "\n",
    "Hence we used Linear Regression to classify our data."
   ]
  }
 ],
 "metadata": {
  "kernelspec": {
   "display_name": "Python 3",
   "language": "python",
   "name": "python3"
  },
  "language_info": {
   "codemirror_mode": {
    "name": "ipython",
    "version": 3
   },
   "file_extension": ".py",
   "mimetype": "text/x-python",
   "name": "python",
   "nbconvert_exporter": "python",
   "pygments_lexer": "ipython3",
   "version": "3.6.4"
  }
 },
 "nbformat": 4,
 "nbformat_minor": 2
}
