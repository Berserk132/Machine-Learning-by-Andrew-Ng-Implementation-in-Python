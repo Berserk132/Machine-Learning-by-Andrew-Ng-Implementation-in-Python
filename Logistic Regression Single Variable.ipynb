{
 "cells": [
  {
   "cell_type": "markdown",
   "metadata": {},
   "source": [
    "# LOGISTIC REGRESSION \n",
    "### (Classification algorithm)\n",
    "#### Single Feature/Variable"
   ]
  },
  {
   "cell_type": "markdown",
   "metadata": {},
   "source": [
    "Logistic Regression is a classification algorithm and helps to classify data. It gives ***DISCRETE VALUES AS OUTPUT***. Don't confuse with the term regression in it's name. In ML regression means a function which gives continuos value as output. But this one, is a classification algorithm."
   ]
  },
  {
   "cell_type": "markdown",
   "metadata": {},
   "source": [
    "####  Hypothesis function:\n",
    "In logistic regression the hypothesis function is $h_{\\theta}(x)$ = $1/(1+$ $e^{-\\theta x}$ $)$.\n",
    "\n",
    "And it's values always lies between 0 and 1."
   ]
  },
  {
   "cell_type": "markdown",
   "metadata": {},
   "source": [
    "I will frame a simple dataset for testing our function."
   ]
  },
  {
   "cell_type": "code",
   "execution_count": 1,
   "metadata": {},
   "outputs": [],
   "source": [
    "import numpy as np\n",
    "import pandas as pd\n",
    "import matplotlib.pyplot as plt\n",
    "import math"
   ]
  },
  {
   "cell_type": "code",
   "execution_count": 35,
   "metadata": {},
   "outputs": [
    {
     "data": {
      "text/plain": [
       "<matplotlib.collections.PathCollection at 0x7f68a44c0b70>"
      ]
     },
     "execution_count": 35,
     "metadata": {},
     "output_type": "execute_result"
    },
    {
     "data": {
      "image/png": "[encoded data removed]",
      "text/plain": [
       "<matplotlib.figure.Figure at 0x7f68a4558eb8>"
      ]
     },
     "metadata": {},
     "output_type": "display_data"
    }
   ],
   "source": [
    "x1 = np.arange(1,11)\n",
    "y1 = np.array([0,0,0,0,1,0,1,1,1,1])\n",
    "plt.scatter(x1,y1)"
   ]
  },
  {
   "cell_type": "markdown",
   "metadata": {},
   "source": [
    "So this is our data for the classification problem. Now let us write an algoritm to predict a logistic regression model."
   ]
  },
  {
   "cell_type": "code",
   "execution_count": 34,
   "metadata": {},
   "outputs": [],
   "source": [
    "def Gradient_Descent(x, y, learning_rate, iterations):\n",
    "    theta_0,theta_1 = 0.001,0.001\n",
    "    m = x.shape[0]\n",
    "\n",
    "    def mean_error(a, b):\n",
    "      sum_mean = 0\n",
    "      for i in range(m):\n",
    "        sum_mean+= a[i] - b[i]\n",
    "      return sum_mean/m\n",
    "\n",
    "    cost_func = []\n",
    "    \n",
    "    def cal_cost_func(t_0,t_1,h_xi):\n",
    "        sum = 0\n",
    "        for i in range(m):\n",
    "            sum += y[i]*math.log(h_xi[i]) + (1-y[i])*math.log(1-h_xi[i])\n",
    "        return -sum/m\n",
    "\n",
    "    \n",
    "    def perform_cal(theta_0,theta_1, m):\n",
    "        h_xi = np.ones((m))\n",
    "        for i in range(m):\n",
    "            h_xi[i] = (1/(1 + math.pow(math.e,-(theta_0 + theta_1*x[i]))))\n",
    "        cost_func_curr = (cal_cost_func(theta_0,theta_1, h_xi))\n",
    "        cost_func.append(cost_func_curr)\n",
    "        temp_0 = theta_0 - learning_rate*mean_error( h_xi, y)\n",
    "        temp_1 = theta_1 - learning_rate*mean_error(h_xi*x, y*x)\n",
    "        return temp_0 , temp_1\n",
    "\n",
    "    for i in range(iterations):\n",
    "        theta_0, theta_1 = perform_cal(theta_0, theta_1, m)\n",
    "        \n",
    "    return theta_0,theta_1, cost_func"
   ]
  },
  {
   "cell_type": "code",
   "execution_count": 59,
   "metadata": {},
   "outputs": [
    {
     "name": "stdout",
     "output_type": "stream",
     "text": [
      "-6.393068781956088 1.170504377336995\n",
      "x =  5.461806812291387\n"
     ]
    },
    {
     "data": {
      "image/png": "[encoded data removed]",
      "text/plain": [
       "<matplotlib.figure.Figure at 0x7f68a27293c8>"
      ]
     },
     "metadata": {},
     "output_type": "display_data"
    }
   ],
   "source": [
    "itr = 1000\n",
    "t_0,t_1, cost_func = Gradient_Descent(x1, y1, 0.3, itr)\n",
    "a = np.arange(itr)\n",
    "print(t_0,t_1)\n",
    "fig, (ax1,ax2) = plt.subplots(nrows=1,ncols=2)\n",
    "fig.set_figwidth(15)\n",
    "ax1.plot(np.arange(itr), cost_func)\n",
    "ax1.set(xlabel='Iterations', ylabel='Cost Function')\n",
    "ax1.set_title('Cost Function vs Iterations')\n",
    "ax2.plot(x1, t_0+t_1*x1)\n",
    "ax2.axhline(y=0, color='g')\n",
    "ax2.axvline(x=(-t_0/t_1), color='r', linestyle='-')  #plotting a vertical line\n",
    "print('x = ', (-t_0/t_1))"
   ]
  },
  {
   "cell_type": "markdown",
   "metadata": {},
   "source": [
    "So the cost function decreases as the number of iterations increases, hence we are on a good track. Now, the second plot is the line which shows the model predicted by logistic regression algorithm. \n",
    "\n",
    "***Intrepretation of the model :***\n",
    "\n",
    "1) We see that at x = 5.46 the value of y=0 for this line, hence it means that when passed with a number less than 5.46, the algorithm would give us 0 as output. Which is quite obvious if we see the data set made by us.\n",
    "\n",
    "2) For values greater than x = 5.46, it would give 1 as output."
   ]
  },
  {
   "cell_type": "markdown",
   "metadata": {},
   "source": [
    "A function to check all the numbers fro 1 to 10, to be classified as 0 or 1."
   ]
  },
  {
   "cell_type": "code",
   "execution_count": 66,
   "metadata": {},
   "outputs": [
    {
     "name": "stdout",
     "output_type": "stream",
     "text": [
      "0 0 0 0 0 1 1 1 1 1 "
     ]
    }
   ],
   "source": [
    "def predict(x,t0,t1):\n",
    "    y_pred = t0 + t1*x\n",
    "    if y_pred<0:\n",
    "        return 0\n",
    "    return 1\n",
    "\n",
    "for i in range(1,11):\n",
    "    print(predict(i, t_0,t_1), end=' ')"
   ]
  },
  {
   "cell_type": "markdown",
   "metadata": {},
   "source": [
    "Now that's a very correct prediction. Notice that the data at x=6, y=0 in our datset doesn't affect the predicted model alot. As even we can predict that it is by chance."
   ]
  },
  {
   "cell_type": "markdown",
   "metadata": {},
   "source": [
    "***Matrix form calculations are very powerful. When writing functions like these it is very helpful to use numpy ndarrays (N-dimensional arrays) as it makes it easy to understand ,time-efficient and takes less number of lines***"
   ]
  },
  {
   "cell_type": "code",
   "execution_count": 63,
   "metadata": {},
   "outputs": [],
   "source": [
    "def Gradient_Descent_Matrices_Magic(x, y, l_t, itr):\n",
    "    theta = np.array([0.001,0.001]).reshape(1,2)\n",
    "    m = x.shape[0]\n",
    "    y,x = y.reshape(m,1), x.reshape(m,1)\n",
    "    x = np.concatenate((np.ones((m,1)),x), axis=1)\n",
    "\n",
    "    for i in range(itr):\n",
    "        h_xi = (1/(1 + np.exp(-np.dot(x,np.transpose(theta)))))\n",
    "        theta = theta - (l_t/m) * np.dot(np.transpose(h_xi- y) , x)\n",
    "    \n",
    "    return theta"
   ]
  },
  {
   "cell_type": "code",
   "execution_count": 69,
   "metadata": {},
   "outputs": [
    {
     "name": "stdout",
     "output_type": "stream",
     "text": [
      "0 0 0 0 0 1 1 1 1 1 "
     ]
    }
   ],
   "source": [
    "theta_m= Gradient_Descent_Matrices_Magic(x1,y1,0.3,1000)\n",
    "for i in range(1,11):\n",
    "    print(predict(i, theta_m[0,0], theta_m[0,1]), end=' ')"
   ]
  },
  {
   "cell_type": "markdown",
   "metadata": {},
   "source": [
    "Hence this one also predicts the same result. But the code of the function Gradient_Descent_Matrices_Magic is very short. Hence it is a good practice to write it this way."
   ]
  }
 ],
 "metadata": {
  "kernelspec": {
   "display_name": "Python 3",
   "language": "python",
   "name": "python3"
  },
  "language_info": {
   "codemirror_mode": {
    "name": "ipython",
    "version": 3
   },
   "file_extension": ".py",
   "mimetype": "text/x-python",
   "name": "python",
   "nbconvert_exporter": "python",
   "pygments_lexer": "ipython3",
   "version": "3.6.4"
  }
 },
 "nbformat": 4,
 "nbformat_minor": 2
}
